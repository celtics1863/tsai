{
 "cells": [
  {
   "cell_type": "markdown",
   "metadata": {},
   "source": [
    "<a href=\"https://colab.research.google.com/github/timeseriesAI/tsai/blob/master/tutorial_nbs/00c_Time_Series_data_preparation.ipynb\" target=\"_parent\"><img src=\"https://colab.research.google.com/assets/colab-badge.svg\" alt=\"Open In Colab\"/></a>"
   ]
  },
  {
   "cell_type": "markdown",
   "metadata": {},
   "source": [
    "created by Ignacio Oguiza - email: timeseriesAI@gmail.com"
   ]
  },
  {
   "cell_type": "markdown",
   "metadata": {},
   "source": [
    "## Import libraries 📚"
   ]
  },
  {
   "cell_type": "markdown",
   "metadata": {},
   "source": [
    "Since some of you have been asking questions as to how to prepare your data to be able to use timeserisAI, I've prepared a short tutorial to address this.\n",
    "\n",
    "There are endless options in terms of how your source data may be stored, so I'll cover a few of the most frequent ones I've seen. I may be expanding this in the future if needed."
   ]
  },
  {
   "cell_type": "code",
   "execution_count": null,
   "metadata": {},
   "outputs": [],
   "source": [
    "# # **************** UNCOMMENT AND RUN THIS CELL IF YOU NEED TO INSTALL/ UPGRADE TSAI ****************\n",
    "# stable = True # Set to True for latest pip version or False for main branch in GitHub\n",
    "# !pip install {\"tsai -U\" if stable else \"git+https://github.com/timeseriesAI/tsai.git\"} >> /dev/null"
   ]
  },
  {
   "cell_type": "code",
   "execution_count": 13,
   "metadata": {},
   "outputs": [
    {
     "name": "stdout",
     "output_type": "stream",
     "text": [
      "os             : Linux-4.15.0-158-generic-x86_64-with-glibc2.10\n",
      "python         : 3.8.0\n",
      "tsai           : 0.3.1\n",
      "fastai         : 2.5.3\n",
      "fastcore       : 1.3.29\n",
      "torch          : 1.10.2+cu102\n",
      "n_cpus         : 2\n",
      "device         : cpu\n"
     ]
    }
   ],
   "source": [
    "from tsai.all import *\n",
    "computer_setup()"
   ]
  },
  {
   "cell_type": "markdown",
   "metadata": {},
   "source": [
    "## Required input shape 🔶"
   ]
  },
  {
   "cell_type": "markdown",
   "metadata": {},
   "source": [
    "To be able to use timeseriesAI your data needs to have 3 dimensions: \n",
    "\n",
    "* **number of samples**\n",
    "* **number of features** (aka variables, dimensions, channels)\n",
    "* **number of steps** (or length, time steps, sequence steps)\n",
    "\n",
    "There are a few convenience functions that you may want to use to prepare your data. \n",
    "\n",
    "We are going to see how you could prepare your data in a few scenarios. "
   ]
  },
  {
   "cell_type": "markdown",
   "metadata": {},
   "source": [
    "**Note: I've recently modified timeseriesAI so that you can also use 2d input data in the case of univariate time series (they'll be converted to 3d internally), although you can still pass univariate time series as 3d or pass them if you prefer. You'll get the same result.**"
   ]
  },
  {
   "cell_type": "markdown",
   "metadata": {},
   "source": [
    "## UCR time series data ⏳"
   ]
  },
  {
   "cell_type": "markdown",
   "metadata": {},
   "source": [
    "The easiest case if if you want to use some of the data already preprocessed in timeseriesAI (all UCR datasets have been included). In this case, the only thing you need to do is:\n",
    "\n",
    "* select a univariate or multivariate dataset from the list\n",
    "* use the get_UCR_data function"
   ]
  },
  {
   "cell_type": "code",
   "execution_count": 14,
   "metadata": {},
   "outputs": [
    {
     "name": "stdout",
     "output_type": "stream",
     "text": [
      "univariate datasets:  ['ACSF1', 'Adiac', 'AllGestureWiimoteX', 'AllGestureWiimoteY', 'AllGestureWiimoteZ', 'ArrowHead', 'Beef', 'BeetleFly', 'BirdChicken', 'BME', 'Car', 'CBF', 'Chinatown', 'ChlorineConcentration', 'CinCECGTorso', 'Coffee', 'Computers', 'CricketX', 'CricketY', 'CricketZ', 'Crop', 'DiatomSizeReduction', 'DistalPhalanxOutlineAgeGroup', 'DistalPhalanxOutlineCorrect', 'DistalPhalanxTW', 'DodgerLoopDay', 'DodgerLoopGame', 'DodgerLoopWeekend', 'Earthquakes', 'ECG200', 'ECG5000', 'ECGFiveDays', 'ElectricDevices', 'EOGHorizontalSignal', 'EOGVerticalSignal', 'EthanolLevel', 'FaceAll', 'FaceFour', 'FacesUCR', 'FiftyWords', 'Fish', 'FordA', 'FordB', 'FreezerRegularTrain', 'FreezerSmallTrain', 'Fungi', 'GestureMidAirD1', 'GestureMidAirD2', 'GestureMidAirD3', 'GesturePebbleZ1', 'GesturePebbleZ2', 'GunPoint', 'GunPointAgeSpan', 'GunPointMaleVersusFemale', 'GunPointOldVersusYoung', 'Ham', 'HandOutlines', 'Haptics', 'Herring', 'HouseTwenty', 'InlineSkate', 'InsectEPGRegularTrain', 'InsectEPGSmallTrain', 'InsectWingbeatSound', 'ItalyPowerDemand', 'LargeKitchenAppliances', 'Lightning2', 'Lightning7', 'Mallat', 'Meat', 'MedicalImages', 'MelbournePedestrian', 'MiddlePhalanxOutlineAgeGroup', 'MiddlePhalanxOutlineCorrect', 'MiddlePhalanxTW', 'MixedShapesRegularTrain', 'MixedShapesSmallTrain', 'MoteStrain', 'NonInvasiveFetalECGThorax1', 'NonInvasiveFetalECGThorax2', 'OliveOil', 'OSULeaf', 'PhalangesOutlinesCorrect', 'Phoneme', 'PickupGestureWiimoteZ', 'PigAirwayPressure', 'PigArtPressure', 'PigCVP', 'PLAID', 'Plane', 'PowerCons', 'ProximalPhalanxOutlineAgeGroup', 'ProximalPhalanxOutlineCorrect', 'ProximalPhalanxTW', 'RefrigerationDevices', 'Rock', 'ScreenType', 'SemgHandGenderCh2', 'SemgHandMovementCh2', 'SemgHandSubjectCh2', 'ShakeGestureWiimoteZ', 'ShapeletSim', 'ShapesAll', 'SmallKitchenAppliances', 'SmoothSubspace', 'SonyAIBORobotSurface1', 'SonyAIBORobotSurface2', 'StarLightCurves', 'Strawberry', 'SwedishLeaf', 'Symbols', 'SyntheticControl', 'ToeSegmentation1', 'ToeSegmentation2', 'Trace', 'TwoLeadECG', 'TwoPatterns', 'UMD', 'UWaveGestureLibraryAll', 'UWaveGestureLibraryX', 'UWaveGestureLibraryY', 'UWaveGestureLibraryZ', 'Wafer', 'Wine', 'WordSynonyms', 'Worms', 'WormsTwoClass', 'Yoga']\n"
     ]
    }
   ],
   "source": [
    "print('univariate datasets: ', get_UCR_univariate_list())"
   ]
  },
  {
   "cell_type": "code",
   "execution_count": 16,
   "metadata": {},
   "outputs": [
    {
     "name": "stdout",
     "output_type": "stream",
     "text": [
      "multivariate datasets:  ['ArticularyWordRecognition', 'AtrialFibrillation', 'BasicMotions', 'CharacterTrajectories', 'Cricket', 'DuckDuckGeese', 'EigenWorms', 'Epilepsy', 'ERing', 'EthanolConcentration', 'FaceDetection', 'FingerMovements', 'HandMovementDirection', 'Handwriting', 'Heartbeat', 'InsectWingbeat', 'JapaneseVowels', 'Libras', 'LSST', 'MotorImagery', 'NATOPS', 'PEMS-SF', 'PenDigits', 'PhonemeSpectra', 'RacketSports', 'SelfRegulationSCP1', 'SelfRegulationSCP2', 'SpokenArabicDigits', 'StandWalkJump', 'UWaveGestureLibrary']\n"
     ]
    }
   ],
   "source": [
    "print('multivariate datasets: ', get_UCR_multivariate_list())"
   ]
  },
  {
   "cell_type": "code",
   "execution_count": 17,
   "metadata": {},
   "outputs": [
    {
     "data": {
      "text/plain": [
       "((360, 24, 51),\n",
       " (360,),\n",
       " ((#180) [0,1,2,3,4,5,6,7,8,9...],\n",
       "  (#180) [180,181,182,183,184,185,186,187,188,189...]))"
      ]
     },
     "execution_count": 17,
     "metadata": {},
     "output_type": "execute_result"
    }
   ],
   "source": [
    "ds_name = 'NATOPS' \n",
    "X, y, splits = get_UCR_data(ds_name, return_split=False)\n",
    "X.shape, y.shape, splits"
   ]
  },
  {
   "cell_type": "code",
   "execution_count": 5,
   "metadata": {},
   "outputs": [
    {
     "data": {
      "text/plain": [
       "(#360) [(TSTensor(vars:24, len:51, device=cpu), TensorCategory(3)), (TSTensor(vars:24, len:51, device=cpu), TensorCategory(2)), (TSTensor(vars:24, len:51, device=cpu), TensorCategory(2)), (TSTensor(vars:24, len:51, device=cpu), TensorCategory(3)), (TSTensor(vars:24, len:51, device=cpu), TensorCategory(2)), (TSTensor(vars:24, len:51, device=cpu), TensorCategory(4)), (TSTensor(vars:24, len:51, device=cpu), TensorCategory(0)), (TSTensor(vars:24, len:51, device=cpu), TensorCategory(5)), (TSTensor(vars:24, len:51, device=cpu), TensorCategory(2)), (TSTensor(vars:24, len:51, device=cpu), TensorCategory(1))] ...]"
      ]
     },
     "execution_count": 5,
     "metadata": {},
     "output_type": "execute_result"
    }
   ],
   "source": [
    "tfms  = [None, [Categorize()]]\n",
    "dsets = TSDatasets(X, y, tfms=tfms, splits=splits, inplace=True)\n",
    "dsets"
   ]
  },
  {
   "cell_type": "markdown",
   "metadata": {},
   "source": [
    "As you can see, X has 3 dimensions: \n",
    "\n",
    "* 360 samples\n",
    "* 24 features\n",
    "* 51 time steps\n",
    "\n",
    "Let's visualize of the samples:"
   ]
  },
  {
   "cell_type": "code",
   "execution_count": 6,
   "metadata": {},
   "outputs": [
    {
     "data": {
      "image/png": "[encoded data removed]",
      "text/plain": [
       "<Figure size 432x288 with 1 Axes>"
      ]
     },
     "metadata": {
      "needs_background": "light"
     },
     "output_type": "display_data"
    }
   ],
   "source": [
    "plt.plot(X[0].T);"
   ]
  },
  {
   "cell_type": "markdown",
   "metadata": {},
   "source": [
    "## 2d or 3d np.ndarray/ torch.Tensor ⌗"
   ]
  },
  {
   "cell_type": "markdown",
   "metadata": {},
   "source": [
    "Another option is that you have your data as an array or a tensor. \n",
    "In this case, the only thing you'll need to do is to transform your data to 3d (if not already done), and generate your splits.\n",
    "We are going to simulate this scenario generating 2d data for a univariate dataset: "
   ]
  },
  {
   "cell_type": "code",
   "execution_count": 7,
   "metadata": {},
   "outputs": [
    {
     "data": {
      "text/plain": [
       "((60, 570), (60,))"
      ]
     },
     "execution_count": 7,
     "metadata": {},
     "output_type": "execute_result"
    }
   ],
   "source": [
    "ds_name = 'OliveOil' \n",
    "X, y, _ = get_UCR_data(ds_name, return_split=False)\n",
    "X_2d = X[:, 0]\n",
    "X_2d.shape, y.shape"
   ]
  },
  {
   "cell_type": "markdown",
   "metadata": {},
   "source": [
    "To make data 3d you use `to3d`:"
   ]
  },
  {
   "cell_type": "code",
   "execution_count": 8,
   "metadata": {},
   "outputs": [
    {
     "data": {
      "text/plain": [
       "(60, 1, 570)"
      ]
     },
     "execution_count": 8,
     "metadata": {},
     "output_type": "execute_result"
    }
   ],
   "source": [
    "X_3d = to3d(X_2d)\n",
    "X_3d.shape"
   ]
  },
  {
   "cell_type": "markdown",
   "metadata": {},
   "source": [
    "To generate your splits, you would use `get_splits`. Here you need to indicate: \n",
    "* valid_size=0.2\n",
    "* test_size (optional)\n",
    "* stratify=True if you want stratified splits\n",
    "* random_state=seed or None (random)"
   ]
  },
  {
   "cell_type": "code",
   "execution_count": 9,
   "metadata": {},
   "outputs": [
    {
     "data": {
      "image/png": "[encoded data removed]",
      "text/plain": [
       "<Figure size 1152x36 with 1 Axes>"
      ]
     },
     "metadata": {
      "needs_background": "light"
     },
     "output_type": "display_data"
    },
    {
     "data": {
      "text/plain": [
       "((#48) [58,21,9,45,41,54,56,46,44,53...],\n",
       " (#12) [55,38,40,18,16,24,3,28,50,14...])"
      ]
     },
     "execution_count": 9,
     "metadata": {},
     "output_type": "execute_result"
    }
   ],
   "source": [
    "splits = get_splits(y, valid_size=.2, stratify=True, random_state=23, shuffle=True)\n",
    "splits"
   ]
  },
  {
   "cell_type": "code",
   "execution_count": 10,
   "metadata": {},
   "outputs": [
    {
     "data": {
      "text/plain": [
       "((60, 1, 570),\n",
       " (60,),\n",
       " ((#48) [58,21,9,45,41,54,56,46,44,53...],\n",
       "  (#12) [55,38,40,18,16,24,3,28,50,14...]))"
      ]
     },
     "execution_count": 10,
     "metadata": {},
     "output_type": "execute_result"
    }
   ],
   "source": [
    "X_3d.shape, y.shape, splits"
   ]
  },
  {
   "cell_type": "code",
   "execution_count": null,
   "metadata": {},
   "outputs": [
    {
     "data": {
      "text/plain": [
       "(#60) [(TSTensor(vars:1, len:570, device=cpu), TensorCategory(3)), (TSTensor(vars:1, len:570, device=cpu), TensorCategory(3)), (TSTensor(vars:1, len:570, device=cpu), TensorCategory(1)), (TSTensor(vars:1, len:570, device=cpu), TensorCategory(2)), (TSTensor(vars:1, len:570, device=cpu), TensorCategory(1)), (TSTensor(vars:1, len:570, device=cpu), TensorCategory(3)), (TSTensor(vars:1, len:570, device=cpu), TensorCategory(3)), (TSTensor(vars:1, len:570, device=cpu), TensorCategory(2)), (TSTensor(vars:1, len:570, device=cpu), TensorCategory(2)), (TSTensor(vars:1, len:570, device=cpu), TensorCategory(3))] ...]"
      ]
     },
     "execution_count": null,
     "metadata": {},
     "output_type": "execute_result"
    }
   ],
   "source": [
    "tfms  = [None, [Categorize()]]\n",
    "dsets = TSDatasets(X_3d, y, tfms=tfms, splits=splits, inplace=True)\n",
    "dsets"
   ]
  },
  {
   "cell_type": "markdown",
   "metadata": {},
   "source": [
    "In fastai I've modified TS datasets so that you can pass univariate time series as a 2d or 3d arrays."
   ]
  },
  {
   "cell_type": "code",
   "execution_count": null,
   "metadata": {},
   "outputs": [
    {
     "data": {
      "text/plain": [
       "(#60) [(TSTensor(len:570, device=cpu), TensorCategory(3)), (TSTensor(len:570, device=cpu), TensorCategory(3)), (TSTensor(len:570, device=cpu), TensorCategory(1)), (TSTensor(len:570, device=cpu), TensorCategory(2)), (TSTensor(len:570, device=cpu), TensorCategory(1)), (TSTensor(len:570, device=cpu), TensorCategory(3)), (TSTensor(len:570, device=cpu), TensorCategory(3)), (TSTensor(len:570, device=cpu), TensorCategory(2)), (TSTensor(len:570, device=cpu), TensorCategory(2)), (TSTensor(len:570, device=cpu), TensorCategory(3))] ...]"
      ]
     },
     "execution_count": null,
     "metadata": {},
     "output_type": "execute_result"
    }
   ],
   "source": [
    "tfms  = [None, [Categorize()]]\n",
    "dsets = TSDatasets(X_2d, y, tfms=tfms, splits=splits, inplace=True)\n",
    "dsets"
   ]
  },
  {
   "cell_type": "markdown",
   "metadata": {},
   "source": [
    "### Pre-split 2d or 3d np.ndarray/ torch.Tensor"
   ]
  },
  {
   "cell_type": "markdown",
   "metadata": {},
   "source": [
    "If your data is already split into Train and Valid/ Test, you may the use `get_predefined_split` to generate the splits:"
   ]
  },
  {
   "cell_type": "code",
   "execution_count": null,
   "metadata": {},
   "outputs": [],
   "source": [
    "ds_name = 'OliveOil' \n",
    "X_train, y_train, X_valid, y_valid = get_UCR_data(ds_name, return_split=True)"
   ]
  },
  {
   "cell_type": "code",
   "execution_count": null,
   "metadata": {},
   "outputs": [],
   "source": [
    "X, y, splits = combine_split_data([X_train, X_valid], [y_train, y_valid])"
   ]
  },
  {
   "cell_type": "code",
   "execution_count": null,
   "metadata": {},
   "outputs": [
    {
     "data": {
      "text/plain": [
       "(#60) [(TSTensor(vars:1, len:570, device=cpu), TensorCategory(0)), (TSTensor(vars:1, len:570, device=cpu), TensorCategory(0)), (TSTensor(vars:1, len:570, device=cpu), TensorCategory(0)), (TSTensor(vars:1, len:570, device=cpu), TensorCategory(0)), (TSTensor(vars:1, len:570, device=cpu), TensorCategory(0)), (TSTensor(vars:1, len:570, device=cpu), TensorCategory(1)), (TSTensor(vars:1, len:570, device=cpu), TensorCategory(1)), (TSTensor(vars:1, len:570, device=cpu), TensorCategory(1)), (TSTensor(vars:1, len:570, device=cpu), TensorCategory(1)), (TSTensor(vars:1, len:570, device=cpu), TensorCategory(1))] ...]"
      ]
     },
     "execution_count": null,
     "metadata": {},
     "output_type": "execute_result"
    }
   ],
   "source": [
    "tfms  = [None, [Categorize()]]\n",
    "dsets = TSDatasets(X, y, tfms=tfms, splits=splits, inplace=True)\n",
    "dsets"
   ]
  },
  {
   "cell_type": "markdown",
   "metadata": {},
   "source": [
    "## Pandas dataframe with samples as rows 🐼"
   ]
  },
  {
   "cell_type": "markdown",
   "metadata": {},
   "source": [
    "### Univariate"
   ]
  },
  {
   "cell_type": "code",
   "execution_count": null,
   "metadata": {},
   "outputs": [
    {
     "data": {
      "text/html": [
       "<div>\n",
       "<style scoped>\n",
       "    .dataframe tbody tr th:only-of-type {\n",
       "        vertical-align: middle;\n",
       "    }\n",
       "\n",
       "    .dataframe tbody tr th {\n",
       "        vertical-align: top;\n",
       "    }\n",
       "\n",
       "    .dataframe thead th {\n",
       "        text-align: right;\n",
       "    }\n",
       "</style>\n",
       "<table border=\"1\" class=\"dataframe\">\n",
       "  <thead>\n",
       "    <tr style=\"text-align: right;\">\n",
       "      <th></th>\n",
       "      <th>0</th>\n",
       "      <th>1</th>\n",
       "      <th>2</th>\n",
       "      <th>3</th>\n",
       "      <th>4</th>\n",
       "      <th>5</th>\n",
       "      <th>6</th>\n",
       "      <th>7</th>\n",
       "      <th>8</th>\n",
       "      <th>9</th>\n",
       "      <th>...</th>\n",
       "      <th>561</th>\n",
       "      <th>562</th>\n",
       "      <th>563</th>\n",
       "      <th>564</th>\n",
       "      <th>565</th>\n",
       "      <th>566</th>\n",
       "      <th>567</th>\n",
       "      <th>568</th>\n",
       "      <th>569</th>\n",
       "      <th>target</th>\n",
       "    </tr>\n",
       "  </thead>\n",
       "  <tbody>\n",
       "    <tr>\n",
       "      <th>0</th>\n",
       "      <td>-0.6113753</td>\n",
       "      <td>-0.61058575</td>\n",
       "      <td>-0.60655695</td>\n",
       "      <td>-0.6011323</td>\n",
       "      <td>-0.5943146</td>\n",
       "      <td>-0.5857617</td>\n",
       "      <td>-0.57741904</td>\n",
       "      <td>-0.57017505</td>\n",
       "      <td>-0.56328535</td>\n",
       "      <td>-0.5574073</td>\n",
       "      <td>...</td>\n",
       "      <td>-0.9803849</td>\n",
       "      <td>-0.98032784</td>\n",
       "      <td>-0.9802198</td>\n",
       "      <td>-0.9806911</td>\n",
       "      <td>-0.98133653</td>\n",
       "      <td>-0.9823362</td>\n",
       "      <td>-0.9832128</td>\n",
       "      <td>-0.98367214</td>\n",
       "      <td>-0.9831198</td>\n",
       "      <td>1</td>\n",
       "    </tr>\n",
       "    <tr>\n",
       "      <th>1</th>\n",
       "      <td>-0.61539173</td>\n",
       "      <td>-0.61372936</td>\n",
       "      <td>-0.6092278</td>\n",
       "      <td>-0.6043151</td>\n",
       "      <td>-0.5987679</td>\n",
       "      <td>-0.59050655</td>\n",
       "      <td>-0.5816167</td>\n",
       "      <td>-0.5729264</td>\n",
       "      <td>-0.5653742</td>\n",
       "      <td>-0.5599074</td>\n",
       "      <td>...</td>\n",
       "      <td>-0.97933495</td>\n",
       "      <td>-0.97952265</td>\n",
       "      <td>-0.98003805</td>\n",
       "      <td>-0.9811463</td>\n",
       "      <td>-0.982332</td>\n",
       "      <td>-0.9825703</td>\n",
       "      <td>-0.9826299</td>\n",
       "      <td>-0.9828504</td>\n",
       "      <td>-0.9825495</td>\n",
       "      <td>1</td>\n",
       "    </tr>\n",
       "    <tr>\n",
       "      <th>2</th>\n",
       "      <td>-0.61199886</td>\n",
       "      <td>-0.6105003</td>\n",
       "      <td>-0.606374</td>\n",
       "      <td>-0.6004454</td>\n",
       "      <td>-0.5930837</td>\n",
       "      <td>-0.5852453</td>\n",
       "      <td>-0.577118</td>\n",
       "      <td>-0.56882674</td>\n",
       "      <td>-0.56159616</td>\n",
       "      <td>-0.55609345</td>\n",
       "      <td>...</td>\n",
       "      <td>-0.9796634</td>\n",
       "      <td>-0.9799643</td>\n",
       "      <td>-0.9805631</td>\n",
       "      <td>-0.9813258</td>\n",
       "      <td>-0.9827439</td>\n",
       "      <td>-0.9831074</td>\n",
       "      <td>-0.9830329</td>\n",
       "      <td>-0.98395646</td>\n",
       "      <td>-0.98385817</td>\n",
       "      <td>1</td>\n",
       "    </tr>\n",
       "    <tr>\n",
       "      <th>3</th>\n",
       "      <td>-0.62278444</td>\n",
       "      <td>-0.6222215</td>\n",
       "      <td>-0.6190489</td>\n",
       "      <td>-0.6132514</td>\n",
       "      <td>-0.6058886</td>\n",
       "      <td>-0.59750843</td>\n",
       "      <td>-0.589047</td>\n",
       "      <td>-0.58069694</td>\n",
       "      <td>-0.57282245</td>\n",
       "      <td>-0.566727</td>\n",
       "      <td>...</td>\n",
       "      <td>-0.96990246</td>\n",
       "      <td>-0.97058576</td>\n",
       "      <td>-0.9707182</td>\n",
       "      <td>-0.97119683</td>\n",
       "      <td>-0.9722684</td>\n",
       "      <td>-0.9726537</td>\n",
       "      <td>-0.9728614</td>\n",
       "      <td>-0.97367114</td>\n",
       "      <td>-0.9736139</td>\n",
       "      <td>1</td>\n",
       "    </tr>\n",
       "    <tr>\n",
       "      <th>4</th>\n",
       "      <td>-0.62179345</td>\n",
       "      <td>-0.62127197</td>\n",
       "      <td>-0.61729795</td>\n",
       "      <td>-0.61207414</td>\n",
       "      <td>-0.6054717</td>\n",
       "      <td>-0.5976075</td>\n",
       "      <td>-0.5891649</td>\n",
       "      <td>-0.5814236</td>\n",
       "      <td>-0.57462037</td>\n",
       "      <td>-0.5684105</td>\n",
       "      <td>...</td>\n",
       "      <td>-0.9778305</td>\n",
       "      <td>-0.978376</td>\n",
       "      <td>-0.9787776</td>\n",
       "      <td>-0.97965574</td>\n",
       "      <td>-0.98114824</td>\n",
       "      <td>-0.9817956</td>\n",
       "      <td>-0.98133105</td>\n",
       "      <td>-0.9812891</td>\n",
       "      <td>-0.98133105</td>\n",
       "      <td>1</td>\n",
       "    </tr>\n",
       "  </tbody>\n",
       "</table>\n",
       "<p>5 rows × 571 columns</p>\n",
       "</div>"
      ],
      "text/plain": [
       "             0            1            2            3           4  \\\n",
       "0   -0.6113753  -0.61058575  -0.60655695   -0.6011323  -0.5943146   \n",
       "1  -0.61539173  -0.61372936   -0.6092278   -0.6043151  -0.5987679   \n",
       "2  -0.61199886   -0.6105003    -0.606374   -0.6004454  -0.5930837   \n",
       "3  -0.62278444   -0.6222215   -0.6190489   -0.6132514  -0.6058886   \n",
       "4  -0.62179345  -0.62127197  -0.61729795  -0.61207414  -0.6054717   \n",
       "\n",
       "             5            6            7            8            9  ...  \\\n",
       "0   -0.5857617  -0.57741904  -0.57017505  -0.56328535   -0.5574073  ...   \n",
       "1  -0.59050655   -0.5816167   -0.5729264   -0.5653742   -0.5599074  ...   \n",
       "2   -0.5852453    -0.577118  -0.56882674  -0.56159616  -0.55609345  ...   \n",
       "3  -0.59750843    -0.589047  -0.58069694  -0.57282245    -0.566727  ...   \n",
       "4   -0.5976075   -0.5891649   -0.5814236  -0.57462037   -0.5684105  ...   \n",
       "\n",
       "           561          562          563          564          565  \\\n",
       "0   -0.9803849  -0.98032784   -0.9802198   -0.9806911  -0.98133653   \n",
       "1  -0.97933495  -0.97952265  -0.98003805   -0.9811463    -0.982332   \n",
       "2   -0.9796634   -0.9799643   -0.9805631   -0.9813258   -0.9827439   \n",
       "3  -0.96990246  -0.97058576   -0.9707182  -0.97119683   -0.9722684   \n",
       "4   -0.9778305    -0.978376   -0.9787776  -0.97965574  -0.98114824   \n",
       "\n",
       "          566          567          568          569 target  \n",
       "0  -0.9823362   -0.9832128  -0.98367214   -0.9831198      1  \n",
       "1  -0.9825703   -0.9826299   -0.9828504   -0.9825495      1  \n",
       "2  -0.9831074   -0.9830329  -0.98395646  -0.98385817      1  \n",
       "3  -0.9726537   -0.9728614  -0.97367114   -0.9736139      1  \n",
       "4  -0.9817956  -0.98133105   -0.9812891  -0.98133105      1  \n",
       "\n",
       "[5 rows x 571 columns]"
      ]
     },
     "execution_count": null,
     "metadata": {},
     "output_type": "execute_result"
    }
   ],
   "source": [
    "ds_name = 'OliveOil'\n",
    "X, y, _ = get_UCR_data(ds_name, return_split=False)\n",
    "X = X[:, 0]\n",
    "y = y.reshape(-1, 1)\n",
    "data = np.concatenate((X, y), axis=-1)\n",
    "df = pd.DataFrame(data)\n",
    "df = df.rename(columns={570: 'target'})\n",
    "df.head()"
   ]
  },
  {
   "cell_type": "code",
   "execution_count": null,
   "metadata": {},
   "outputs": [],
   "source": [
    "X, y = df2xy(df, target_col='target')\n",
    "test_eq(X.shape, (60, 1, 570))\n",
    "test_eq(y.shape, (60, ))"
   ]
  },
  {
   "cell_type": "code",
   "execution_count": null,
   "metadata": {},
   "outputs": [
    {
     "data": {
      "image/png": "[encoded data removed]",
      "text/plain": [
       "<Figure size 1152x36 with 1 Axes>"
      ]
     },
     "metadata": {
      "needs_background": "light"
     },
     "output_type": "display_data"
    },
    {
     "data": {
      "text/plain": [
       "((#48) [58,21,9,45,41,54,56,46,44,53...],\n",
       " (#12) [55,38,40,18,16,24,3,28,50,14...])"
      ]
     },
     "execution_count": null,
     "metadata": {},
     "output_type": "execute_result"
    }
   ],
   "source": [
    "splits = get_splits(y, valid_size=.2, stratify=True, random_state=23, shuffle=True)\n",
    "splits"
   ]
  },
  {
   "cell_type": "code",
   "execution_count": null,
   "metadata": {},
   "outputs": [
    {
     "data": {
      "text/plain": [
       "(#60) [(TSTensor(vars:1, len:570, device=cpu), TensorCategory(3)), (TSTensor(vars:1, len:570, device=cpu), TensorCategory(3)), (TSTensor(vars:1, len:570, device=cpu), TensorCategory(1)), (TSTensor(vars:1, len:570, device=cpu), TensorCategory(2)), (TSTensor(vars:1, len:570, device=cpu), TensorCategory(1)), (TSTensor(vars:1, len:570, device=cpu), TensorCategory(3)), (TSTensor(vars:1, len:570, device=cpu), TensorCategory(3)), (TSTensor(vars:1, len:570, device=cpu), TensorCategory(2)), (TSTensor(vars:1, len:570, device=cpu), TensorCategory(2)), (TSTensor(vars:1, len:570, device=cpu), TensorCategory(3))] ...]"
      ]
     },
     "execution_count": null,
     "metadata": {},
     "output_type": "execute_result"
    }
   ],
   "source": [
    "tfms  = [None, [Categorize()]]\n",
    "dsets = TSDatasets(X, y, tfms=tfms, splits=splits, inplace=True)\n",
    "dsets"
   ]
  },
  {
   "cell_type": "markdown",
   "metadata": {},
   "source": [
    "### Multivariate"
   ]
  },
  {
   "cell_type": "code",
   "execution_count": null,
   "metadata": {},
   "outputs": [
    {
     "data": {
      "text/html": [
       "<div>\n",
       "<style scoped>\n",
       "    .dataframe tbody tr th:only-of-type {\n",
       "        vertical-align: middle;\n",
       "    }\n",
       "\n",
       "    .dataframe tbody tr th {\n",
       "        vertical-align: top;\n",
       "    }\n",
       "\n",
       "    .dataframe thead th {\n",
       "        text-align: right;\n",
       "    }\n",
       "</style>\n",
       "<table border=\"1\" class=\"dataframe\">\n",
       "  <thead>\n",
       "    <tr style=\"text-align: right;\">\n",
       "      <th></th>\n",
       "      <th>feature</th>\n",
       "      <th>index</th>\n",
       "      <th>0</th>\n",
       "      <th>1</th>\n",
       "      <th>2</th>\n",
       "      <th>3</th>\n",
       "      <th>4</th>\n",
       "      <th>5</th>\n",
       "      <th>6</th>\n",
       "      <th>7</th>\n",
       "      <th>...</th>\n",
       "      <th>561</th>\n",
       "      <th>562</th>\n",
       "      <th>563</th>\n",
       "      <th>564</th>\n",
       "      <th>565</th>\n",
       "      <th>566</th>\n",
       "      <th>567</th>\n",
       "      <th>568</th>\n",
       "      <th>569</th>\n",
       "      <th>target</th>\n",
       "    </tr>\n",
       "  </thead>\n",
       "  <tbody>\n",
       "    <tr>\n",
       "      <th>0</th>\n",
       "      <td>1</td>\n",
       "      <td>0</td>\n",
       "      <td>-0.611375</td>\n",
       "      <td>-0.610586</td>\n",
       "      <td>-0.606557</td>\n",
       "      <td>-0.601132</td>\n",
       "      <td>-0.594315</td>\n",
       "      <td>-0.585762</td>\n",
       "      <td>-0.577419</td>\n",
       "      <td>-0.570175</td>\n",
       "      <td>...</td>\n",
       "      <td>-0.980385</td>\n",
       "      <td>-0.980328</td>\n",
       "      <td>-0.980220</td>\n",
       "      <td>-0.980691</td>\n",
       "      <td>-0.981337</td>\n",
       "      <td>-0.982336</td>\n",
       "      <td>-0.983213</td>\n",
       "      <td>-0.983672</td>\n",
       "      <td>-0.983120</td>\n",
       "      <td>1.0</td>\n",
       "    </tr>\n",
       "    <tr>\n",
       "      <th>1</th>\n",
       "      <td>1</td>\n",
       "      <td>1</td>\n",
       "      <td>-0.615392</td>\n",
       "      <td>-0.613729</td>\n",
       "      <td>-0.609228</td>\n",
       "      <td>-0.604315</td>\n",
       "      <td>-0.598768</td>\n",
       "      <td>-0.590507</td>\n",
       "      <td>-0.581617</td>\n",
       "      <td>-0.572926</td>\n",
       "      <td>...</td>\n",
       "      <td>-0.979335</td>\n",
       "      <td>-0.979523</td>\n",
       "      <td>-0.980038</td>\n",
       "      <td>-0.981146</td>\n",
       "      <td>-0.982332</td>\n",
       "      <td>-0.982570</td>\n",
       "      <td>-0.982630</td>\n",
       "      <td>-0.982850</td>\n",
       "      <td>-0.982549</td>\n",
       "      <td>1.0</td>\n",
       "    </tr>\n",
       "    <tr>\n",
       "      <th>2</th>\n",
       "      <td>1</td>\n",
       "      <td>2</td>\n",
       "      <td>-0.611999</td>\n",
       "      <td>-0.610500</td>\n",
       "      <td>-0.606374</td>\n",
       "      <td>-0.600445</td>\n",
       "      <td>-0.593084</td>\n",
       "      <td>-0.585245</td>\n",
       "      <td>-0.577118</td>\n",
       "      <td>-0.568827</td>\n",
       "      <td>...</td>\n",
       "      <td>-0.979663</td>\n",
       "      <td>-0.979964</td>\n",
       "      <td>-0.980563</td>\n",
       "      <td>-0.981326</td>\n",
       "      <td>-0.982744</td>\n",
       "      <td>-0.983107</td>\n",
       "      <td>-0.983033</td>\n",
       "      <td>-0.983956</td>\n",
       "      <td>-0.983858</td>\n",
       "      <td>1.0</td>\n",
       "    </tr>\n",
       "    <tr>\n",
       "      <th>3</th>\n",
       "      <td>1</td>\n",
       "      <td>3</td>\n",
       "      <td>-0.622784</td>\n",
       "      <td>-0.622221</td>\n",
       "      <td>-0.619049</td>\n",
       "      <td>-0.613251</td>\n",
       "      <td>-0.605889</td>\n",
       "      <td>-0.597508</td>\n",
       "      <td>-0.589047</td>\n",
       "      <td>-0.580697</td>\n",
       "      <td>...</td>\n",
       "      <td>-0.969902</td>\n",
       "      <td>-0.970586</td>\n",
       "      <td>-0.970718</td>\n",
       "      <td>-0.971197</td>\n",
       "      <td>-0.972268</td>\n",
       "      <td>-0.972654</td>\n",
       "      <td>-0.972861</td>\n",
       "      <td>-0.973671</td>\n",
       "      <td>-0.973614</td>\n",
       "      <td>1.0</td>\n",
       "    </tr>\n",
       "    <tr>\n",
       "      <th>4</th>\n",
       "      <td>1</td>\n",
       "      <td>4</td>\n",
       "      <td>-0.621793</td>\n",
       "      <td>-0.621272</td>\n",
       "      <td>-0.617298</td>\n",
       "      <td>-0.612074</td>\n",
       "      <td>-0.605472</td>\n",
       "      <td>-0.597607</td>\n",
       "      <td>-0.589165</td>\n",
       "      <td>-0.581424</td>\n",
       "      <td>...</td>\n",
       "      <td>-0.977831</td>\n",
       "      <td>-0.978376</td>\n",
       "      <td>-0.978778</td>\n",
       "      <td>-0.979656</td>\n",
       "      <td>-0.981148</td>\n",
       "      <td>-0.981796</td>\n",
       "      <td>-0.981331</td>\n",
       "      <td>-0.981289</td>\n",
       "      <td>-0.981331</td>\n",
       "      <td>1.0</td>\n",
       "    </tr>\n",
       "    <tr>\n",
       "      <th>...</th>\n",
       "      <td>...</td>\n",
       "      <td>...</td>\n",
       "      <td>...</td>\n",
       "      <td>...</td>\n",
       "      <td>...</td>\n",
       "      <td>...</td>\n",
       "      <td>...</td>\n",
       "      <td>...</td>\n",
       "      <td>...</td>\n",
       "      <td>...</td>\n",
       "      <td>...</td>\n",
       "      <td>...</td>\n",
       "      <td>...</td>\n",
       "      <td>...</td>\n",
       "      <td>...</td>\n",
       "      <td>...</td>\n",
       "      <td>...</td>\n",
       "      <td>...</td>\n",
       "      <td>...</td>\n",
       "      <td>...</td>\n",
       "      <td>...</td>\n",
       "    </tr>\n",
       "    <tr>\n",
       "      <th>175</th>\n",
       "      <td>3</td>\n",
       "      <td>55</td>\n",
       "      <td>99.377066</td>\n",
       "      <td>99.378307</td>\n",
       "      <td>99.383004</td>\n",
       "      <td>99.389189</td>\n",
       "      <td>99.396304</td>\n",
       "      <td>99.405102</td>\n",
       "      <td>99.414323</td>\n",
       "      <td>99.422454</td>\n",
       "      <td>...</td>\n",
       "      <td>99.033363</td>\n",
       "      <td>99.032615</td>\n",
       "      <td>99.032609</td>\n",
       "      <td>99.032021</td>\n",
       "      <td>99.031171</td>\n",
       "      <td>99.031198</td>\n",
       "      <td>99.030609</td>\n",
       "      <td>99.030441</td>\n",
       "      <td>99.030480</td>\n",
       "      <td>104.0</td>\n",
       "    </tr>\n",
       "    <tr>\n",
       "      <th>176</th>\n",
       "      <td>3</td>\n",
       "      <td>56</td>\n",
       "      <td>99.390295</td>\n",
       "      <td>99.392517</td>\n",
       "      <td>99.397438</td>\n",
       "      <td>99.402816</td>\n",
       "      <td>99.409873</td>\n",
       "      <td>99.418803</td>\n",
       "      <td>99.427823</td>\n",
       "      <td>99.436244</td>\n",
       "      <td>...</td>\n",
       "      <td>99.023249</td>\n",
       "      <td>99.022934</td>\n",
       "      <td>99.022428</td>\n",
       "      <td>99.021527</td>\n",
       "      <td>99.020822</td>\n",
       "      <td>99.020762</td>\n",
       "      <td>99.020462</td>\n",
       "      <td>99.019507</td>\n",
       "      <td>99.019367</td>\n",
       "      <td>104.0</td>\n",
       "    </tr>\n",
       "    <tr>\n",
       "      <th>177</th>\n",
       "      <td>3</td>\n",
       "      <td>57</td>\n",
       "      <td>99.387922</td>\n",
       "      <td>99.390261</td>\n",
       "      <td>99.394830</td>\n",
       "      <td>99.400812</td>\n",
       "      <td>99.407458</td>\n",
       "      <td>99.416016</td>\n",
       "      <td>99.425299</td>\n",
       "      <td>99.433606</td>\n",
       "      <td>...</td>\n",
       "      <td>99.026371</td>\n",
       "      <td>99.026007</td>\n",
       "      <td>99.025971</td>\n",
       "      <td>99.025246</td>\n",
       "      <td>99.024581</td>\n",
       "      <td>99.024234</td>\n",
       "      <td>99.023587</td>\n",
       "      <td>99.023002</td>\n",
       "      <td>99.023483</td>\n",
       "      <td>104.0</td>\n",
       "    </tr>\n",
       "    <tr>\n",
       "      <th>178</th>\n",
       "      <td>3</td>\n",
       "      <td>58</td>\n",
       "      <td>99.390348</td>\n",
       "      <td>99.391047</td>\n",
       "      <td>99.394922</td>\n",
       "      <td>99.401168</td>\n",
       "      <td>99.408396</td>\n",
       "      <td>99.416801</td>\n",
       "      <td>99.425483</td>\n",
       "      <td>99.433159</td>\n",
       "      <td>...</td>\n",
       "      <td>99.024331</td>\n",
       "      <td>99.023934</td>\n",
       "      <td>99.023716</td>\n",
       "      <td>99.022909</td>\n",
       "      <td>99.021966</td>\n",
       "      <td>99.021285</td>\n",
       "      <td>99.021127</td>\n",
       "      <td>99.020634</td>\n",
       "      <td>99.020106</td>\n",
       "      <td>104.0</td>\n",
       "    </tr>\n",
       "    <tr>\n",
       "      <th>179</th>\n",
       "      <td>3</td>\n",
       "      <td>59</td>\n",
       "      <td>99.377725</td>\n",
       "      <td>99.378153</td>\n",
       "      <td>99.381078</td>\n",
       "      <td>99.385643</td>\n",
       "      <td>99.392011</td>\n",
       "      <td>99.400396</td>\n",
       "      <td>99.408790</td>\n",
       "      <td>99.416355</td>\n",
       "      <td>...</td>\n",
       "      <td>99.030874</td>\n",
       "      <td>99.030576</td>\n",
       "      <td>99.030334</td>\n",
       "      <td>99.029671</td>\n",
       "      <td>99.028706</td>\n",
       "      <td>99.028079</td>\n",
       "      <td>99.027955</td>\n",
       "      <td>99.026948</td>\n",
       "      <td>99.026330</td>\n",
       "      <td>104.0</td>\n",
       "    </tr>\n",
       "  </tbody>\n",
       "</table>\n",
       "<p>180 rows × 573 columns</p>\n",
       "</div>"
      ],
      "text/plain": [
       "     feature  index          0          1          2          3          4  \\\n",
       "0          1      0  -0.611375  -0.610586  -0.606557  -0.601132  -0.594315   \n",
       "1          1      1  -0.615392  -0.613729  -0.609228  -0.604315  -0.598768   \n",
       "2          1      2  -0.611999  -0.610500  -0.606374  -0.600445  -0.593084   \n",
       "3          1      3  -0.622784  -0.622221  -0.619049  -0.613251  -0.605889   \n",
       "4          1      4  -0.621793  -0.621272  -0.617298  -0.612074  -0.605472   \n",
       "..       ...    ...        ...        ...        ...        ...        ...   \n",
       "175        3     55  99.377066  99.378307  99.383004  99.389189  99.396304   \n",
       "176        3     56  99.390295  99.392517  99.397438  99.402816  99.409873   \n",
       "177        3     57  99.387922  99.390261  99.394830  99.400812  99.407458   \n",
       "178        3     58  99.390348  99.391047  99.394922  99.401168  99.408396   \n",
       "179        3     59  99.377725  99.378153  99.381078  99.385643  99.392011   \n",
       "\n",
       "             5          6          7  ...        561        562        563  \\\n",
       "0    -0.585762  -0.577419  -0.570175  ...  -0.980385  -0.980328  -0.980220   \n",
       "1    -0.590507  -0.581617  -0.572926  ...  -0.979335  -0.979523  -0.980038   \n",
       "2    -0.585245  -0.577118  -0.568827  ...  -0.979663  -0.979964  -0.980563   \n",
       "3    -0.597508  -0.589047  -0.580697  ...  -0.969902  -0.970586  -0.970718   \n",
       "4    -0.597607  -0.589165  -0.581424  ...  -0.977831  -0.978376  -0.978778   \n",
       "..         ...        ...        ...  ...        ...        ...        ...   \n",
       "175  99.405102  99.414323  99.422454  ...  99.033363  99.032615  99.032609   \n",
       "176  99.418803  99.427823  99.436244  ...  99.023249  99.022934  99.022428   \n",
       "177  99.416016  99.425299  99.433606  ...  99.026371  99.026007  99.025971   \n",
       "178  99.416801  99.425483  99.433159  ...  99.024331  99.023934  99.023716   \n",
       "179  99.400396  99.408790  99.416355  ...  99.030874  99.030576  99.030334   \n",
       "\n",
       "           564        565        566        567        568        569  target  \n",
       "0    -0.980691  -0.981337  -0.982336  -0.983213  -0.983672  -0.983120     1.0  \n",
       "1    -0.981146  -0.982332  -0.982570  -0.982630  -0.982850  -0.982549     1.0  \n",
       "2    -0.981326  -0.982744  -0.983107  -0.983033  -0.983956  -0.983858     1.0  \n",
       "3    -0.971197  -0.972268  -0.972654  -0.972861  -0.973671  -0.973614     1.0  \n",
       "4    -0.979656  -0.981148  -0.981796  -0.981331  -0.981289  -0.981331     1.0  \n",
       "..         ...        ...        ...        ...        ...        ...     ...  \n",
       "175  99.032021  99.031171  99.031198  99.030609  99.030441  99.030480   104.0  \n",
       "176  99.021527  99.020822  99.020762  99.020462  99.019507  99.019367   104.0  \n",
       "177  99.025246  99.024581  99.024234  99.023587  99.023002  99.023483   104.0  \n",
       "178  99.022909  99.021966  99.021285  99.021127  99.020634  99.020106   104.0  \n",
       "179  99.029671  99.028706  99.028079  99.027955  99.026948  99.026330   104.0  \n",
       "\n",
       "[180 rows x 573 columns]"
      ]
     },
     "execution_count": null,
     "metadata": {},
     "output_type": "execute_result"
    }
   ],
   "source": [
    "ds_name = 'OliveOil'\n",
    "X, y, _ = get_UCR_data(ds_name, return_split=False)\n",
    "X = X[:, 0]\n",
    "y = y.reshape(-1, 1)\n",
    "data = np.concatenate((X, y), axis=-1)\n",
    "df = pd.DataFrame(data).astype(float)\n",
    "df = df.rename(columns={570: 'target'})\n",
    "df1 = pd.concat([df, df + 10, df + 100], axis=0).reset_index(drop=False)\n",
    "df2 = pd.DataFrame(np.array([1] * 60 + [2] * 60 + [3] * 60), columns=['feature'])\n",
    "df = pd.merge(df2, df1, left_index=True, right_index=True)\n",
    "df"
   ]
  },
  {
   "cell_type": "code",
   "execution_count": null,
   "metadata": {},
   "outputs": [],
   "source": [
    "X, y = df2xy(df, sample_col='index', feat_col='feature', target_col='target', data_cols=None)\n",
    "test_eq(X.shape, (60, 3, 570))\n",
    "test_eq(y.shape, (60, 3))"
   ]
  },
  {
   "cell_type": "code",
   "execution_count": null,
   "metadata": {},
   "outputs": [
    {
     "data": {
      "image/png": "[encoded data removed]",
      "text/plain": [
       "<Figure size 1152x36 with 1 Axes>"
      ]
     },
     "metadata": {
      "needs_background": "light"
     },
     "output_type": "display_data"
    },
    {
     "data": {
      "text/plain": [
       "((#48) [58,21,9,45,41,54,56,46,44,53...],\n",
       " (#12) [55,38,40,18,16,24,3,28,50,14...])"
      ]
     },
     "execution_count": null,
     "metadata": {},
     "output_type": "execute_result"
    }
   ],
   "source": [
    "splits = get_splits(y, valid_size=.2, stratify=True, random_state=23, shuffle=True)\n",
    "splits"
   ]
  },
  {
   "cell_type": "code",
   "execution_count": null,
   "metadata": {},
   "outputs": [
    {
     "data": {
      "text/plain": [
       "(#60) [(TSTensor(vars:3, len:570, device=cpu), tensor([  4.,  14., 104.])), (TSTensor(vars:3, len:570, device=cpu), tensor([  4.,  14., 104.])), (TSTensor(vars:3, len:570, device=cpu), tensor([  2.,  12., 102.])), (TSTensor(vars:3, len:570, device=cpu), tensor([  3.,  13., 103.])), (TSTensor(vars:3, len:570, device=cpu), tensor([  2.,  12., 102.])), (TSTensor(vars:3, len:570, device=cpu), tensor([  4.,  14., 104.])), (TSTensor(vars:3, len:570, device=cpu), tensor([  4.,  14., 104.])), (TSTensor(vars:3, len:570, device=cpu), tensor([  3.,  13., 103.])), (TSTensor(vars:3, len:570, device=cpu), tensor([  3.,  13., 103.])), (TSTensor(vars:3, len:570, device=cpu), tensor([  4.,  14., 104.]))] ...]"
      ]
     },
     "execution_count": null,
     "metadata": {},
     "output_type": "execute_result"
    }
   ],
   "source": [
    "tfms  = [None, TSRegression()]\n",
    "dsets = TSDatasets(X, y, tfms=tfms, splits=splits, inplace=True)\n",
    "dsets"
   ]
  },
  {
   "cell_type": "markdown",
   "metadata": {},
   "source": [
    "## Single, long time series 🤥"
   ]
  },
  {
   "cell_type": "markdown",
   "metadata": {},
   "source": [
    "Sometimes, instead of having the data already split into samples, you only have a single (univariate or multivariate) time series that you need to split. \n",
    "The recommended way to do this is to use a sliding window. In `timeseriesAI`there is a function called `SlidingWindow`that performs this task in a flexible way.\n",
    "\n",
    "This function applies a sliding window to a 1d or 2d input (np.ndarray, torch.Tensor or pd.DataFrame). \n",
    "   \n",
    "* Args:\n",
    "    * window_length   = length of lookback window\n",
    "    * stride          = n datapoints the window is moved ahead along the sequence. Default: 1. If None, stride=window_length (no overlap)\n",
    "    * horizon         = number of future datapoints to predict. 0 for last step in the selected window. > 0 for future steps. List for several steps.\n",
    "    * get_x          = indices of columns that contain the independent variable (xs). If get_x=None, all data will be used as x\n",
    "    * get_y          = indices of columns that contain the target (ys). If y_idx is None, no y will be returned\n",
    "    * seq_first       = True if input shape (seq_len, n_vars), False if input shape (n_vars, seq_len)\n",
    "    * random_start    = determines the step where the first window is applied: 0 (default), a given step (int), or random within the 1st stride (None). \n",
    "\n",
    "* Input:\n",
    "    * shape: (seq_len, ) or (seq_len, n_vars) if seq_first=True else (n_vars, seq_len)"
   ]
  },
  {
   "cell_type": "markdown",
   "metadata": {},
   "source": [
    "### Univariate"
   ]
  },
  {
   "cell_type": "markdown",
   "metadata": {},
   "source": [
    "You may use it just without a target"
   ]
  },
  {
   "cell_type": "code",
   "execution_count": null,
   "metadata": {},
   "outputs": [
    {
     "name": "stdout",
     "output_type": "stream",
     "text": [
      "input shape: (100,)\n"
     ]
    }
   ],
   "source": [
    "window_length = 5\n",
    "t = np.arange(100)\n",
    "print('input shape:', t.shape)\n",
    "X, y = SlidingWindow(window_length)(t)\n",
    "test_eq(X.shape, ((95, 1, 5)))"
   ]
  },
  {
   "cell_type": "markdown",
   "metadata": {},
   "source": [
    "If the target is the next step in the univariate time series set `horizon=1`:"
   ]
  },
  {
   "cell_type": "code",
   "execution_count": null,
   "metadata": {},
   "outputs": [
    {
     "name": "stdout",
     "output_type": "stream",
     "text": [
      "input shape: (100,)\n"
     ]
    }
   ],
   "source": [
    "window_length = 5\n",
    "horizon = 1\n",
    "\n",
    "t = np.arange(100)\n",
    "print('input shape:', t.shape)\n",
    "X, y = SlidingWindow(window_length, horizon=horizon)(t)\n",
    "test_eq(X.shape, ((95, 1, 5)))\n",
    "test_eq(y.shape, ((95,)))"
   ]
  },
  {
   "cell_type": "markdown",
   "metadata": {},
   "source": [
    "Horizon may be > 1 to select multiple steps in the future:"
   ]
  },
  {
   "cell_type": "code",
   "execution_count": null,
   "metadata": {},
   "outputs": [
    {
     "name": "stdout",
     "output_type": "stream",
     "text": [
      "input shape: (100,)\n"
     ]
    }
   ],
   "source": [
    "window_length = 5\n",
    "horizon = 2\n",
    "\n",
    "t = np.arange(100)\n",
    "print('input shape:', t.shape)\n",
    "X, y = SlidingWindow(window_length, horizon=horizon)(t)\n",
    "test_eq(X.shape, ((94, 1, 5)))\n",
    "test_eq(y.shape, ((94, 2)))"
   ]
  },
  {
   "cell_type": "markdown",
   "metadata": {},
   "source": [
    "To have non-overlapping samples, we need to set `stride=None`:"
   ]
  },
  {
   "cell_type": "code",
   "execution_count": null,
   "metadata": {},
   "outputs": [
    {
     "name": "stdout",
     "output_type": "stream",
     "text": [
      "input shape: (100,)\n"
     ]
    }
   ],
   "source": [
    "window_length = 5\n",
    "stride = None\n",
    "horizon = 1\n",
    "t = np.arange(100)\n",
    "print('input shape:', t.shape)\n",
    "X, y = SlidingWindow(window_length, stride=stride, horizon=horizon)(t)\n",
    "test_eq(X.shape, ((19, 1, 5)))\n",
    "test_eq(y.shape, ((19, )))"
   ]
  },
  {
   "cell_type": "code",
   "execution_count": null,
   "metadata": {},
   "outputs": [
    {
     "name": "stdout",
     "output_type": "stream",
     "text": [
      "input shape: (100,)\n"
     ]
    }
   ],
   "source": [
    "window_length = 5\n",
    "stride = 3\n",
    "horizon = 1\n",
    "t = np.arange(100)\n",
    "print('input shape:', t.shape)\n",
    "X, y = SlidingWindow(window_length, stride=stride, horizon=horizon)(t)\n",
    "test_eq(X.shape, ((32, 1, 5)))\n",
    "test_eq(y.shape, ((32, )))"
   ]
  },
  {
   "cell_type": "markdown",
   "metadata": {},
   "source": [
    "We can also decide where to start the sliding window using `start`: "
   ]
  },
  {
   "cell_type": "code",
   "execution_count": null,
   "metadata": {},
   "outputs": [
    {
     "name": "stdout",
     "output_type": "stream",
     "text": [
      "input shape: (100,)\n"
     ]
    }
   ],
   "source": [
    "window_length = 5\n",
    "stride = None\n",
    "horizon = 1\n",
    "t = np.arange(100)\n",
    "print('input shape:', t.shape)\n",
    "X, y = SlidingWindow(window_length, stride=stride, start=20, horizon=horizon)(t)\n",
    "test_eq(X.shape, ((15, 1, 5)))\n",
    "test_eq(y.shape, ((15, )))"
   ]
  },
  {
   "cell_type": "markdown",
   "metadata": {},
   "source": [
    "If the time series is of shape (1, seq_len) we need to set `seq_first=False`"
   ]
  },
  {
   "cell_type": "code",
   "execution_count": null,
   "metadata": {},
   "outputs": [
    {
     "name": "stdout",
     "output_type": "stream",
     "text": [
      "input shape: (1, 100)\n"
     ]
    }
   ],
   "source": [
    "window_length = 5\n",
    "stride = 3\n",
    "horizon = 1\n",
    "t = np.arange(100).reshape(1, -1)\n",
    "print('input shape:', t.shape)\n",
    "X, y = SlidingWindow(window_length, stride=stride, horizon=horizon, seq_first=False)(t)\n",
    "test_eq(X.shape, ((32, 1, 5)))\n",
    "test_eq(y.shape, ((32, )))"
   ]
  },
  {
   "cell_type": "markdown",
   "metadata": {},
   "source": [
    "Your univariate time series may be in a pandas DataFrame:"
   ]
  },
  {
   "cell_type": "code",
   "execution_count": null,
   "metadata": {},
   "outputs": [
    {
     "name": "stdout",
     "output_type": "stream",
     "text": [
      "input shape: (20, 1)\n"
     ]
    },
    {
     "data": {
      "text/html": [
       "<div>\n",
       "<style scoped>\n",
       "    .dataframe tbody tr th:only-of-type {\n",
       "        vertical-align: middle;\n",
       "    }\n",
       "\n",
       "    .dataframe tbody tr th {\n",
       "        vertical-align: top;\n",
       "    }\n",
       "\n",
       "    .dataframe thead th {\n",
       "        text-align: right;\n",
       "    }\n",
       "</style>\n",
       "<table border=\"1\" class=\"dataframe\">\n",
       "  <thead>\n",
       "    <tr style=\"text-align: right;\">\n",
       "      <th></th>\n",
       "      <th>var</th>\n",
       "    </tr>\n",
       "  </thead>\n",
       "  <tbody>\n",
       "    <tr>\n",
       "      <th>0</th>\n",
       "      <td>0</td>\n",
       "    </tr>\n",
       "    <tr>\n",
       "      <th>1</th>\n",
       "      <td>1</td>\n",
       "    </tr>\n",
       "    <tr>\n",
       "      <th>2</th>\n",
       "      <td>2</td>\n",
       "    </tr>\n",
       "    <tr>\n",
       "      <th>3</th>\n",
       "      <td>3</td>\n",
       "    </tr>\n",
       "    <tr>\n",
       "      <th>4</th>\n",
       "      <td>4</td>\n",
       "    </tr>\n",
       "    <tr>\n",
       "      <th>5</th>\n",
       "      <td>5</td>\n",
       "    </tr>\n",
       "    <tr>\n",
       "      <th>6</th>\n",
       "      <td>6</td>\n",
       "    </tr>\n",
       "    <tr>\n",
       "      <th>7</th>\n",
       "      <td>7</td>\n",
       "    </tr>\n",
       "    <tr>\n",
       "      <th>8</th>\n",
       "      <td>8</td>\n",
       "    </tr>\n",
       "    <tr>\n",
       "      <th>9</th>\n",
       "      <td>9</td>\n",
       "    </tr>\n",
       "    <tr>\n",
       "      <th>10</th>\n",
       "      <td>10</td>\n",
       "    </tr>\n",
       "    <tr>\n",
       "      <th>11</th>\n",
       "      <td>11</td>\n",
       "    </tr>\n",
       "    <tr>\n",
       "      <th>12</th>\n",
       "      <td>12</td>\n",
       "    </tr>\n",
       "    <tr>\n",
       "      <th>13</th>\n",
       "      <td>13</td>\n",
       "    </tr>\n",
       "    <tr>\n",
       "      <th>14</th>\n",
       "      <td>14</td>\n",
       "    </tr>\n",
       "    <tr>\n",
       "      <th>15</th>\n",
       "      <td>15</td>\n",
       "    </tr>\n",
       "    <tr>\n",
       "      <th>16</th>\n",
       "      <td>16</td>\n",
       "    </tr>\n",
       "    <tr>\n",
       "      <th>17</th>\n",
       "      <td>17</td>\n",
       "    </tr>\n",
       "    <tr>\n",
       "      <th>18</th>\n",
       "      <td>18</td>\n",
       "    </tr>\n",
       "    <tr>\n",
       "      <th>19</th>\n",
       "      <td>19</td>\n",
       "    </tr>\n",
       "  </tbody>\n",
       "</table>\n",
       "</div>"
      ],
      "text/plain": [
       "    var\n",
       "0     0\n",
       "1     1\n",
       "2     2\n",
       "3     3\n",
       "4     4\n",
       "5     5\n",
       "6     6\n",
       "7     7\n",
       "8     8\n",
       "9     9\n",
       "10   10\n",
       "11   11\n",
       "12   12\n",
       "13   13\n",
       "14   14\n",
       "15   15\n",
       "16   16\n",
       "17   17\n",
       "18   18\n",
       "19   19"
      ]
     },
     "metadata": {},
     "output_type": "display_data"
    }
   ],
   "source": [
    "window_length = 5\n",
    "stride = None\n",
    "horizon=1\n",
    "\n",
    "t = np.arange(20)\n",
    "df = pd.DataFrame(t, columns=['var'])\n",
    "print('input shape:', df.shape)\n",
    "display(df)\n",
    "X, y = SlidingWindow(window_length, stride=stride, horizon=horizon)(df)\n",
    "test_eq(X.shape, ((3, 1, 5)))\n",
    "test_eq(y.shape, ((3, )))"
   ]
  },
  {
   "cell_type": "code",
   "execution_count": null,
   "metadata": {},
   "outputs": [
    {
     "name": "stdout",
     "output_type": "stream",
     "text": [
      "input shape: (1, 20)\n"
     ]
    },
    {
     "data": {
      "text/html": [
       "<div>\n",
       "<style scoped>\n",
       "    .dataframe tbody tr th:only-of-type {\n",
       "        vertical-align: middle;\n",
       "    }\n",
       "\n",
       "    .dataframe tbody tr th {\n",
       "        vertical-align: top;\n",
       "    }\n",
       "\n",
       "    .dataframe thead th {\n",
       "        text-align: right;\n",
       "    }\n",
       "</style>\n",
       "<table border=\"1\" class=\"dataframe\">\n",
       "  <thead>\n",
       "    <tr style=\"text-align: right;\">\n",
       "      <th></th>\n",
       "      <th>0</th>\n",
       "      <th>1</th>\n",
       "      <th>2</th>\n",
       "      <th>3</th>\n",
       "      <th>4</th>\n",
       "      <th>5</th>\n",
       "      <th>6</th>\n",
       "      <th>7</th>\n",
       "      <th>8</th>\n",
       "      <th>9</th>\n",
       "      <th>10</th>\n",
       "      <th>11</th>\n",
       "      <th>12</th>\n",
       "      <th>13</th>\n",
       "      <th>14</th>\n",
       "      <th>15</th>\n",
       "      <th>16</th>\n",
       "      <th>17</th>\n",
       "      <th>18</th>\n",
       "      <th>19</th>\n",
       "    </tr>\n",
       "  </thead>\n",
       "  <tbody>\n",
       "    <tr>\n",
       "      <th>var</th>\n",
       "      <td>0</td>\n",
       "      <td>1</td>\n",
       "      <td>2</td>\n",
       "      <td>3</td>\n",
       "      <td>4</td>\n",
       "      <td>5</td>\n",
       "      <td>6</td>\n",
       "      <td>7</td>\n",
       "      <td>8</td>\n",
       "      <td>9</td>\n",
       "      <td>10</td>\n",
       "      <td>11</td>\n",
       "      <td>12</td>\n",
       "      <td>13</td>\n",
       "      <td>14</td>\n",
       "      <td>15</td>\n",
       "      <td>16</td>\n",
       "      <td>17</td>\n",
       "      <td>18</td>\n",
       "      <td>19</td>\n",
       "    </tr>\n",
       "  </tbody>\n",
       "</table>\n",
       "</div>"
      ],
      "text/plain": [
       "     0   1   2   3   4   5   6   7   8   9   10  11  12  13  14  15  16  17  \\\n",
       "var   0   1   2   3   4   5   6   7   8   9  10  11  12  13  14  15  16  17   \n",
       "\n",
       "     18  19  \n",
       "var  18  19  "
      ]
     },
     "metadata": {},
     "output_type": "display_data"
    }
   ],
   "source": [
    "window_length = 5\n",
    "stride = None\n",
    "horizon=1\n",
    "\n",
    "t = np.arange(20)\n",
    "df = pd.DataFrame(t, columns=['var']).T\n",
    "print('input shape:', df.shape)\n",
    "display(df)\n",
    "X, y = SlidingWindow(window_length, stride=stride, horizon=horizon, seq_first=False)(df)\n",
    "test_eq(X.shape, ((3, 1, 5)))\n",
    "test_eq(y.shape, ((3, )))"
   ]
  },
  {
   "cell_type": "markdown",
   "metadata": {},
   "source": [
    "### Multivariate"
   ]
  },
  {
   "cell_type": "markdown",
   "metadata": {},
   "source": [
    "When using multivariate data, all parameters shown before work in the same way, but you always need to indicate how to get the X data and the y data (as there are multiple features). To do that, we'll use get_x and get_y. \n",
    "\n",
    "By default get_x is set to None, which means that all features will be used.\n",
    "By default get_y is set to None, which means that all features will be used as long as horizon > 0 (to avoid leakage).\n",
    "\n",
    "If you get the time series in a np.ndarray or a torch.Tensor, you should use integers, a list or slice as get_x/ get_y."
   ]
  },
  {
   "cell_type": "code",
   "execution_count": 11,
   "metadata": {},
   "outputs": [
    {
     "name": "stdout",
     "output_type": "stream",
     "text": [
      "(1000, 3)\n"
     ]
    },
    {
     "data": {
      "image/png": "[encoded data removed]",
      "text/plain": [
       "<Figure size 432x288 with 1 Axes>"
      ]
     },
     "metadata": {
      "needs_background": "light"
     },
     "output_type": "display_data"
    }
   ],
   "source": [
    "window_length = 5\n",
    "stride = None\n",
    "n_vars = 3\n",
    "\n",
    "t = (np.random.rand(1000, n_vars) - .5).cumsum(0)\n",
    "print(t.shape)\n",
    "plt.plot(t)\n",
    "plt.show()\n",
    "X, y = SlidingWindow(window_length, stride=stride, get_x=[0,1], get_y=2)(t)\n",
    "test_eq(X.shape, ((199, 2, 5)))\n",
    "test_eq(y.shape, ((199, )))"
   ]
  },
  {
   "cell_type": "code",
   "execution_count": null,
   "metadata": {},
   "outputs": [
    {
     "name": "stdout",
     "output_type": "stream",
     "text": [
      "input shape: (10, 3)\n"
     ]
    },
    {
     "data": {
      "text/html": [
       "<div>\n",
       "<style scoped>\n",
       "    .dataframe tbody tr th:only-of-type {\n",
       "        vertical-align: middle;\n",
       "    }\n",
       "\n",
       "    .dataframe tbody tr th {\n",
       "        vertical-align: top;\n",
       "    }\n",
       "\n",
       "    .dataframe thead th {\n",
       "        text-align: right;\n",
       "    }\n",
       "</style>\n",
       "<table border=\"1\" class=\"dataframe\">\n",
       "  <thead>\n",
       "    <tr style=\"text-align: right;\">\n",
       "      <th></th>\n",
       "      <th>var_0</th>\n",
       "      <th>var_1</th>\n",
       "      <th>var_2</th>\n",
       "    </tr>\n",
       "  </thead>\n",
       "  <tbody>\n",
       "    <tr>\n",
       "      <th>0</th>\n",
       "      <td>tensor(0)</td>\n",
       "      <td>tensor(0)</td>\n",
       "      <td>tensor(0)</td>\n",
       "    </tr>\n",
       "    <tr>\n",
       "      <th>1</th>\n",
       "      <td>tensor(1)</td>\n",
       "      <td>tensor(10)</td>\n",
       "      <td>tensor(100)</td>\n",
       "    </tr>\n",
       "    <tr>\n",
       "      <th>2</th>\n",
       "      <td>tensor(2)</td>\n",
       "      <td>tensor(20)</td>\n",
       "      <td>tensor(200)</td>\n",
       "    </tr>\n",
       "    <tr>\n",
       "      <th>3</th>\n",
       "      <td>tensor(3)</td>\n",
       "      <td>tensor(30)</td>\n",
       "      <td>tensor(300)</td>\n",
       "    </tr>\n",
       "    <tr>\n",
       "      <th>4</th>\n",
       "      <td>tensor(4)</td>\n",
       "      <td>tensor(40)</td>\n",
       "      <td>tensor(400)</td>\n",
       "    </tr>\n",
       "    <tr>\n",
       "      <th>5</th>\n",
       "      <td>tensor(5)</td>\n",
       "      <td>tensor(50)</td>\n",
       "      <td>tensor(500)</td>\n",
       "    </tr>\n",
       "    <tr>\n",
       "      <th>6</th>\n",
       "      <td>tensor(6)</td>\n",
       "      <td>tensor(60)</td>\n",
       "      <td>tensor(600)</td>\n",
       "    </tr>\n",
       "    <tr>\n",
       "      <th>7</th>\n",
       "      <td>tensor(7)</td>\n",
       "      <td>tensor(70)</td>\n",
       "      <td>tensor(700)</td>\n",
       "    </tr>\n",
       "    <tr>\n",
       "      <th>8</th>\n",
       "      <td>tensor(8)</td>\n",
       "      <td>tensor(80)</td>\n",
       "      <td>tensor(800)</td>\n",
       "    </tr>\n",
       "    <tr>\n",
       "      <th>9</th>\n",
       "      <td>tensor(9)</td>\n",
       "      <td>tensor(90)</td>\n",
       "      <td>tensor(900)</td>\n",
       "    </tr>\n",
       "  </tbody>\n",
       "</table>\n",
       "</div>"
      ],
      "text/plain": [
       "       var_0       var_1        var_2\n",
       "0  tensor(0)   tensor(0)    tensor(0)\n",
       "1  tensor(1)  tensor(10)  tensor(100)\n",
       "2  tensor(2)  tensor(20)  tensor(200)\n",
       "3  tensor(3)  tensor(30)  tensor(300)\n",
       "4  tensor(4)  tensor(40)  tensor(400)\n",
       "5  tensor(5)  tensor(50)  tensor(500)\n",
       "6  tensor(6)  tensor(60)  tensor(600)\n",
       "7  tensor(7)  tensor(70)  tensor(700)\n",
       "8  tensor(8)  tensor(80)  tensor(800)\n",
       "9  tensor(9)  tensor(90)  tensor(900)"
      ]
     },
     "metadata": {},
     "output_type": "display_data"
    }
   ],
   "source": [
    "window_length = 5\n",
    "n_vars = 3\n",
    "\n",
    "t = (torch.stack(n_vars * [torch.arange(10)]).T * tensor([1, 10, 100]))\n",
    "df = pd.DataFrame(t, columns=[f'var_{i}' for i in range(n_vars)])\n",
    "print('input shape:', df.shape)\n",
    "display(df)\n",
    "X, y = SlidingWindow(window_length)(df)\n",
    "test_eq(X.shape, ((5, 3, 5)))\n",
    "test_eq(y.shape, ((5, 3)))"
   ]
  },
  {
   "cell_type": "code",
   "execution_count": null,
   "metadata": {},
   "outputs": [
    {
     "name": "stdout",
     "output_type": "stream",
     "text": [
      "input shape: (10, 3)\n"
     ]
    },
    {
     "data": {
      "text/html": [
       "<div>\n",
       "<style scoped>\n",
       "    .dataframe tbody tr th:only-of-type {\n",
       "        vertical-align: middle;\n",
       "    }\n",
       "\n",
       "    .dataframe tbody tr th {\n",
       "        vertical-align: top;\n",
       "    }\n",
       "\n",
       "    .dataframe thead th {\n",
       "        text-align: right;\n",
       "    }\n",
       "</style>\n",
       "<table border=\"1\" class=\"dataframe\">\n",
       "  <thead>\n",
       "    <tr style=\"text-align: right;\">\n",
       "      <th></th>\n",
       "      <th>var_0</th>\n",
       "      <th>var_1</th>\n",
       "      <th>var_2</th>\n",
       "    </tr>\n",
       "  </thead>\n",
       "  <tbody>\n",
       "    <tr>\n",
       "      <th>0</th>\n",
       "      <td>tensor(0)</td>\n",
       "      <td>tensor(0)</td>\n",
       "      <td>tensor(0)</td>\n",
       "    </tr>\n",
       "    <tr>\n",
       "      <th>1</th>\n",
       "      <td>tensor(1)</td>\n",
       "      <td>tensor(10)</td>\n",
       "      <td>tensor(100)</td>\n",
       "    </tr>\n",
       "    <tr>\n",
       "      <th>2</th>\n",
       "      <td>tensor(2)</td>\n",
       "      <td>tensor(20)</td>\n",
       "      <td>tensor(200)</td>\n",
       "    </tr>\n",
       "    <tr>\n",
       "      <th>3</th>\n",
       "      <td>tensor(3)</td>\n",
       "      <td>tensor(30)</td>\n",
       "      <td>tensor(300)</td>\n",
       "    </tr>\n",
       "    <tr>\n",
       "      <th>4</th>\n",
       "      <td>tensor(4)</td>\n",
       "      <td>tensor(40)</td>\n",
       "      <td>tensor(400)</td>\n",
       "    </tr>\n",
       "    <tr>\n",
       "      <th>5</th>\n",
       "      <td>tensor(5)</td>\n",
       "      <td>tensor(50)</td>\n",
       "      <td>tensor(500)</td>\n",
       "    </tr>\n",
       "    <tr>\n",
       "      <th>6</th>\n",
       "      <td>tensor(6)</td>\n",
       "      <td>tensor(60)</td>\n",
       "      <td>tensor(600)</td>\n",
       "    </tr>\n",
       "    <tr>\n",
       "      <th>7</th>\n",
       "      <td>tensor(7)</td>\n",
       "      <td>tensor(70)</td>\n",
       "      <td>tensor(700)</td>\n",
       "    </tr>\n",
       "    <tr>\n",
       "      <th>8</th>\n",
       "      <td>tensor(8)</td>\n",
       "      <td>tensor(80)</td>\n",
       "      <td>tensor(800)</td>\n",
       "    </tr>\n",
       "    <tr>\n",
       "      <th>9</th>\n",
       "      <td>tensor(9)</td>\n",
       "      <td>tensor(90)</td>\n",
       "      <td>tensor(900)</td>\n",
       "    </tr>\n",
       "  </tbody>\n",
       "</table>\n",
       "</div>"
      ],
      "text/plain": [
       "       var_0       var_1        var_2\n",
       "0  tensor(0)   tensor(0)    tensor(0)\n",
       "1  tensor(1)  tensor(10)  tensor(100)\n",
       "2  tensor(2)  tensor(20)  tensor(200)\n",
       "3  tensor(3)  tensor(30)  tensor(300)\n",
       "4  tensor(4)  tensor(40)  tensor(400)\n",
       "5  tensor(5)  tensor(50)  tensor(500)\n",
       "6  tensor(6)  tensor(60)  tensor(600)\n",
       "7  tensor(7)  tensor(70)  tensor(700)\n",
       "8  tensor(8)  tensor(80)  tensor(800)\n",
       "9  tensor(9)  tensor(90)  tensor(900)"
      ]
     },
     "metadata": {},
     "output_type": "display_data"
    }
   ],
   "source": [
    "window_length = 5\n",
    "n_vars = 3\n",
    "horizon = 1\n",
    "\n",
    "t = (torch.stack(n_vars * [torch.arange(10)]).T * tensor([1, 10, 100]))\n",
    "df = pd.DataFrame(t, columns=[f'var_{i}' for i in range(n_vars)])\n",
    "print('input shape:', df.shape)\n",
    "display(df)\n",
    "X, y = SlidingWindow(window_length, horizon=horizon)(df)\n",
    "test_eq(X.shape, ((5, 3, 5)))\n",
    "test_eq(y.shape, ((5, 3)))"
   ]
  },
  {
   "cell_type": "markdown",
   "metadata": {},
   "source": [
    "You may also get the target from a different column: "
   ]
  },
  {
   "cell_type": "code",
   "execution_count": null,
   "metadata": {},
   "outputs": [
    {
     "name": "stdout",
     "output_type": "stream",
     "text": [
      "input shape: (10, 3)\n"
     ]
    },
    {
     "data": {
      "text/html": [
       "<div>\n",
       "<style scoped>\n",
       "    .dataframe tbody tr th:only-of-type {\n",
       "        vertical-align: middle;\n",
       "    }\n",
       "\n",
       "    .dataframe tbody tr th {\n",
       "        vertical-align: top;\n",
       "    }\n",
       "\n",
       "    .dataframe thead th {\n",
       "        text-align: right;\n",
       "    }\n",
       "</style>\n",
       "<table border=\"1\" class=\"dataframe\">\n",
       "  <thead>\n",
       "    <tr style=\"text-align: right;\">\n",
       "      <th></th>\n",
       "      <th>var_0</th>\n",
       "      <th>var_1</th>\n",
       "      <th>target</th>\n",
       "    </tr>\n",
       "  </thead>\n",
       "  <tbody>\n",
       "    <tr>\n",
       "      <th>0</th>\n",
       "      <td>tensor(0)</td>\n",
       "      <td>tensor(0)</td>\n",
       "      <td>tensor(0)</td>\n",
       "    </tr>\n",
       "    <tr>\n",
       "      <th>1</th>\n",
       "      <td>tensor(1)</td>\n",
       "      <td>tensor(10)</td>\n",
       "      <td>tensor(100)</td>\n",
       "    </tr>\n",
       "    <tr>\n",
       "      <th>2</th>\n",
       "      <td>tensor(2)</td>\n",
       "      <td>tensor(20)</td>\n",
       "      <td>tensor(200)</td>\n",
       "    </tr>\n",
       "    <tr>\n",
       "      <th>3</th>\n",
       "      <td>tensor(3)</td>\n",
       "      <td>tensor(30)</td>\n",
       "      <td>tensor(300)</td>\n",
       "    </tr>\n",
       "    <tr>\n",
       "      <th>4</th>\n",
       "      <td>tensor(4)</td>\n",
       "      <td>tensor(40)</td>\n",
       "      <td>tensor(400)</td>\n",
       "    </tr>\n",
       "    <tr>\n",
       "      <th>5</th>\n",
       "      <td>tensor(5)</td>\n",
       "      <td>tensor(50)</td>\n",
       "      <td>tensor(500)</td>\n",
       "    </tr>\n",
       "    <tr>\n",
       "      <th>6</th>\n",
       "      <td>tensor(6)</td>\n",
       "      <td>tensor(60)</td>\n",
       "      <td>tensor(600)</td>\n",
       "    </tr>\n",
       "    <tr>\n",
       "      <th>7</th>\n",
       "      <td>tensor(7)</td>\n",
       "      <td>tensor(70)</td>\n",
       "      <td>tensor(700)</td>\n",
       "    </tr>\n",
       "    <tr>\n",
       "      <th>8</th>\n",
       "      <td>tensor(8)</td>\n",
       "      <td>tensor(80)</td>\n",
       "      <td>tensor(800)</td>\n",
       "    </tr>\n",
       "    <tr>\n",
       "      <th>9</th>\n",
       "      <td>tensor(9)</td>\n",
       "      <td>tensor(90)</td>\n",
       "      <td>tensor(900)</td>\n",
       "    </tr>\n",
       "  </tbody>\n",
       "</table>\n",
       "</div>"
      ],
      "text/plain": [
       "       var_0       var_1       target\n",
       "0  tensor(0)   tensor(0)    tensor(0)\n",
       "1  tensor(1)  tensor(10)  tensor(100)\n",
       "2  tensor(2)  tensor(20)  tensor(200)\n",
       "3  tensor(3)  tensor(30)  tensor(300)\n",
       "4  tensor(4)  tensor(40)  tensor(400)\n",
       "5  tensor(5)  tensor(50)  tensor(500)\n",
       "6  tensor(6)  tensor(60)  tensor(600)\n",
       "7  tensor(7)  tensor(70)  tensor(700)\n",
       "8  tensor(8)  tensor(80)  tensor(800)\n",
       "9  tensor(9)  tensor(90)  tensor(900)"
      ]
     },
     "metadata": {},
     "output_type": "display_data"
    }
   ],
   "source": [
    "window_length = 5\n",
    "n_vars = 3\n",
    "\n",
    "t = (torch.stack(n_vars * [torch.arange(10)]).T * tensor([1, 10, 100]))\n",
    "columns=[f'var_{i}' for i in range(n_vars-1)]+['target']\n",
    "df = pd.DataFrame(t, columns=columns)\n",
    "print('input shape:', df.shape)\n",
    "display(df)\n",
    "X, y = SlidingWindow(window_length, get_x=columns[:-1], get_y='target')(df)\n",
    "test_eq(X.shape, ((5, 2, 5)))\n",
    "test_eq(y.shape, ((5, )))"
   ]
  },
  {
   "cell_type": "code",
   "execution_count": null,
   "metadata": {},
   "outputs": [
    {
     "name": "stdout",
     "output_type": "stream",
     "text": [
      "input shape: (10, 5)\n"
     ]
    },
    {
     "data": {
      "text/html": [
       "<div>\n",
       "<style scoped>\n",
       "    .dataframe tbody tr th:only-of-type {\n",
       "        vertical-align: middle;\n",
       "    }\n",
       "\n",
       "    .dataframe tbody tr th {\n",
       "        vertical-align: top;\n",
       "    }\n",
       "\n",
       "    .dataframe thead th {\n",
       "        text-align: right;\n",
       "    }\n",
       "</style>\n",
       "<table border=\"1\" class=\"dataframe\">\n",
       "  <thead>\n",
       "    <tr style=\"text-align: right;\">\n",
       "      <th></th>\n",
       "      <th>var_0</th>\n",
       "      <th>var_1</th>\n",
       "      <th>var_2</th>\n",
       "      <th>var_3</th>\n",
       "      <th>target</th>\n",
       "    </tr>\n",
       "  </thead>\n",
       "  <tbody>\n",
       "    <tr>\n",
       "      <th>0</th>\n",
       "      <td>tensor(0)</td>\n",
       "      <td>tensor(0)</td>\n",
       "      <td>tensor(0)</td>\n",
       "      <td>tensor(0)</td>\n",
       "      <td>tensor(0)</td>\n",
       "    </tr>\n",
       "    <tr>\n",
       "      <th>1</th>\n",
       "      <td>tensor(1)</td>\n",
       "      <td>tensor(10)</td>\n",
       "      <td>tensor(100)</td>\n",
       "      <td>tensor(1000)</td>\n",
       "      <td>tensor(10000)</td>\n",
       "    </tr>\n",
       "    <tr>\n",
       "      <th>2</th>\n",
       "      <td>tensor(2)</td>\n",
       "      <td>tensor(20)</td>\n",
       "      <td>tensor(200)</td>\n",
       "      <td>tensor(2000)</td>\n",
       "      <td>tensor(20000)</td>\n",
       "    </tr>\n",
       "    <tr>\n",
       "      <th>3</th>\n",
       "      <td>tensor(3)</td>\n",
       "      <td>tensor(30)</td>\n",
       "      <td>tensor(300)</td>\n",
       "      <td>tensor(3000)</td>\n",
       "      <td>tensor(30000)</td>\n",
       "    </tr>\n",
       "    <tr>\n",
       "      <th>4</th>\n",
       "      <td>tensor(4)</td>\n",
       "      <td>tensor(40)</td>\n",
       "      <td>tensor(400)</td>\n",
       "      <td>tensor(4000)</td>\n",
       "      <td>tensor(40000)</td>\n",
       "    </tr>\n",
       "    <tr>\n",
       "      <th>5</th>\n",
       "      <td>tensor(5)</td>\n",
       "      <td>tensor(50)</td>\n",
       "      <td>tensor(500)</td>\n",
       "      <td>tensor(5000)</td>\n",
       "      <td>tensor(50000)</td>\n",
       "    </tr>\n",
       "    <tr>\n",
       "      <th>6</th>\n",
       "      <td>tensor(6)</td>\n",
       "      <td>tensor(60)</td>\n",
       "      <td>tensor(600)</td>\n",
       "      <td>tensor(6000)</td>\n",
       "      <td>tensor(60000)</td>\n",
       "    </tr>\n",
       "    <tr>\n",
       "      <th>7</th>\n",
       "      <td>tensor(7)</td>\n",
       "      <td>tensor(70)</td>\n",
       "      <td>tensor(700)</td>\n",
       "      <td>tensor(7000)</td>\n",
       "      <td>tensor(70000)</td>\n",
       "    </tr>\n",
       "    <tr>\n",
       "      <th>8</th>\n",
       "      <td>tensor(8)</td>\n",
       "      <td>tensor(80)</td>\n",
       "      <td>tensor(800)</td>\n",
       "      <td>tensor(8000)</td>\n",
       "      <td>tensor(80000)</td>\n",
       "    </tr>\n",
       "    <tr>\n",
       "      <th>9</th>\n",
       "      <td>tensor(9)</td>\n",
       "      <td>tensor(90)</td>\n",
       "      <td>tensor(900)</td>\n",
       "      <td>tensor(9000)</td>\n",
       "      <td>tensor(90000)</td>\n",
       "    </tr>\n",
       "  </tbody>\n",
       "</table>\n",
       "</div>"
      ],
      "text/plain": [
       "       var_0       var_1        var_2         var_3         target\n",
       "0  tensor(0)   tensor(0)    tensor(0)     tensor(0)      tensor(0)\n",
       "1  tensor(1)  tensor(10)  tensor(100)  tensor(1000)  tensor(10000)\n",
       "2  tensor(2)  tensor(20)  tensor(200)  tensor(2000)  tensor(20000)\n",
       "3  tensor(3)  tensor(30)  tensor(300)  tensor(3000)  tensor(30000)\n",
       "4  tensor(4)  tensor(40)  tensor(400)  tensor(4000)  tensor(40000)\n",
       "5  tensor(5)  tensor(50)  tensor(500)  tensor(5000)  tensor(50000)\n",
       "6  tensor(6)  tensor(60)  tensor(600)  tensor(6000)  tensor(60000)\n",
       "7  tensor(7)  tensor(70)  tensor(700)  tensor(7000)  tensor(70000)\n",
       "8  tensor(8)  tensor(80)  tensor(800)  tensor(8000)  tensor(80000)\n",
       "9  tensor(9)  tensor(90)  tensor(900)  tensor(9000)  tensor(90000)"
      ]
     },
     "metadata": {},
     "output_type": "display_data"
    }
   ],
   "source": [
    "window_length = 5\n",
    "n_vars = 5\n",
    "horizon = 1\n",
    "\n",
    "t = (torch.stack(n_vars * [torch.arange(10)]).T * tensor([10**i for i in range(n_vars)]))\n",
    "columns=[f'var_{i}' for i in range(n_vars-1)]+['target']\n",
    "df = pd.DataFrame(t, columns=columns)\n",
    "print('input shape:', df.shape)\n",
    "display(df)\n",
    "X, y = SlidingWindow(window_length, horizon=horizon, get_x=columns[:-1], get_y='target')(df)\n",
    "test_eq(X.shape, ((5, 4, 5)))\n",
    "test_eq(y.shape, ((5, )))"
   ]
  },
  {
   "cell_type": "code",
   "execution_count": null,
   "metadata": {},
   "outputs": [
    {
     "name": "stdout",
     "output_type": "stream",
     "text": [
      "input shape: (100, 5)\n"
     ]
    },
    {
     "data": {
      "text/html": [
       "<div>\n",
       "<style scoped>\n",
       "    .dataframe tbody tr th:only-of-type {\n",
       "        vertical-align: middle;\n",
       "    }\n",
       "\n",
       "    .dataframe tbody tr th {\n",
       "        vertical-align: top;\n",
       "    }\n",
       "\n",
       "    .dataframe thead th {\n",
       "        text-align: right;\n",
       "    }\n",
       "</style>\n",
       "<table border=\"1\" class=\"dataframe\">\n",
       "  <thead>\n",
       "    <tr style=\"text-align: right;\">\n",
       "      <th></th>\n",
       "      <th>var_0</th>\n",
       "      <th>var_1</th>\n",
       "      <th>var_2</th>\n",
       "      <th>var_3</th>\n",
       "      <th>target</th>\n",
       "    </tr>\n",
       "  </thead>\n",
       "  <tbody>\n",
       "    <tr>\n",
       "      <th>0</th>\n",
       "      <td>-0.278922</td>\n",
       "      <td>-0.090157</td>\n",
       "      <td>0.107557</td>\n",
       "      <td>-0.331229</td>\n",
       "      <td>0.0</td>\n",
       "    </tr>\n",
       "    <tr>\n",
       "      <th>1</th>\n",
       "      <td>-0.439346</td>\n",
       "      <td>-0.393919</td>\n",
       "      <td>0.276158</td>\n",
       "      <td>-0.230226</td>\n",
       "      <td>8.0</td>\n",
       "    </tr>\n",
       "    <tr>\n",
       "      <th>2</th>\n",
       "      <td>-0.335883</td>\n",
       "      <td>-0.572737</td>\n",
       "      <td>0.272000</td>\n",
       "      <td>0.254256</td>\n",
       "      <td>5.0</td>\n",
       "    </tr>\n",
       "    <tr>\n",
       "      <th>3</th>\n",
       "      <td>-0.630172</td>\n",
       "      <td>-0.865450</td>\n",
       "      <td>-0.056542</td>\n",
       "      <td>0.086401</td>\n",
       "      <td>2.0</td>\n",
       "    </tr>\n",
       "    <tr>\n",
       "      <th>4</th>\n",
       "      <td>-0.793439</td>\n",
       "      <td>-0.649630</td>\n",
       "      <td>-0.376331</td>\n",
       "      <td>0.210082</td>\n",
       "      <td>2.0</td>\n",
       "    </tr>\n",
       "    <tr>\n",
       "      <th>...</th>\n",
       "      <td>...</td>\n",
       "      <td>...</td>\n",
       "      <td>...</td>\n",
       "      <td>...</td>\n",
       "      <td>...</td>\n",
       "    </tr>\n",
       "    <tr>\n",
       "      <th>95</th>\n",
       "      <td>0.958701</td>\n",
       "      <td>0.647505</td>\n",
       "      <td>2.281029</td>\n",
       "      <td>7.588593</td>\n",
       "      <td>3.0</td>\n",
       "    </tr>\n",
       "    <tr>\n",
       "      <th>96</th>\n",
       "      <td>0.469621</td>\n",
       "      <td>0.733098</td>\n",
       "      <td>2.399453</td>\n",
       "      <td>7.154065</td>\n",
       "      <td>3.0</td>\n",
       "    </tr>\n",
       "    <tr>\n",
       "      <th>97</th>\n",
       "      <td>0.536770</td>\n",
       "      <td>0.994313</td>\n",
       "      <td>2.125393</td>\n",
       "      <td>7.445057</td>\n",
       "      <td>9.0</td>\n",
       "    </tr>\n",
       "    <tr>\n",
       "      <th>98</th>\n",
       "      <td>0.971073</td>\n",
       "      <td>0.661072</td>\n",
       "      <td>2.073313</td>\n",
       "      <td>7.867993</td>\n",
       "      <td>5.0</td>\n",
       "    </tr>\n",
       "    <tr>\n",
       "      <th>99</th>\n",
       "      <td>1.390952</td>\n",
       "      <td>0.549541</td>\n",
       "      <td>2.475450</td>\n",
       "      <td>7.624701</td>\n",
       "      <td>8.0</td>\n",
       "    </tr>\n",
       "  </tbody>\n",
       "</table>\n",
       "<p>100 rows × 5 columns</p>\n",
       "</div>"
      ],
      "text/plain": [
       "       var_0     var_1     var_2     var_3  target\n",
       "0  -0.278922 -0.090157  0.107557 -0.331229     0.0\n",
       "1  -0.439346 -0.393919  0.276158 -0.230226     8.0\n",
       "2  -0.335883 -0.572737  0.272000  0.254256     5.0\n",
       "3  -0.630172 -0.865450 -0.056542  0.086401     2.0\n",
       "4  -0.793439 -0.649630 -0.376331  0.210082     2.0\n",
       "..       ...       ...       ...       ...     ...\n",
       "95  0.958701  0.647505  2.281029  7.588593     3.0\n",
       "96  0.469621  0.733098  2.399453  7.154065     3.0\n",
       "97  0.536770  0.994313  2.125393  7.445057     9.0\n",
       "98  0.971073  0.661072  2.073313  7.867993     5.0\n",
       "99  1.390952  0.549541  2.475450  7.624701     8.0\n",
       "\n",
       "[100 rows x 5 columns]"
      ]
     },
     "metadata": {},
     "output_type": "display_data"
    },
    {
     "data": {
      "image/png": "[encoded data removed]",
      "text/plain": [
       "<Figure size 1152x36 with 1 Axes>"
      ]
     },
     "metadata": {
      "needs_background": "light"
     },
     "output_type": "display_data"
    },
    {
     "data": {
      "text/plain": [
       "(#96) [(TSTensor(vars:4, len:4, device=cpu), TensorCategory(2)), (TSTensor(vars:4, len:4, device=cpu), TensorCategory(5)), (TSTensor(vars:4, len:4, device=cpu), TensorCategory(4)), (TSTensor(vars:4, len:4, device=cpu), TensorCategory(9)), (TSTensor(vars:4, len:4, device=cpu), TensorCategory(0)), (TSTensor(vars:4, len:4, device=cpu), TensorCategory(8)), (TSTensor(vars:4, len:4, device=cpu), TensorCategory(0)), (TSTensor(vars:4, len:4, device=cpu), TensorCategory(7)), (TSTensor(vars:4, len:4, device=cpu), TensorCategory(7)), (TSTensor(vars:4, len:4, device=cpu), TensorCategory(4))] ...]"
      ]
     },
     "execution_count": null,
     "metadata": {},
     "output_type": "execute_result"
    }
   ],
   "source": [
    "window_length = 4\n",
    "n_vars = 5\n",
    "seq_len = 100\n",
    "horizon = 1\n",
    "\n",
    "t1 = (np.random.rand(seq_len, n_vars-1) - .5).cumsum(0)\n",
    "t2 = np.random.randint(0, 10, (seq_len,1))\n",
    "t = np.concatenate((t1, t2), axis=-1)\n",
    "columns=[f'var_{i}' for i in range(n_vars-1)]+['target']\n",
    "df = pd.DataFrame(t, columns=columns)\n",
    "print('input shape:', df.shape)\n",
    "display(df)\n",
    "X, y = SlidingWindow(window_length, horizon=horizon, get_x=columns[:-1], get_y='target')(df)\n",
    "splits = get_splits(y, valid_size=.2, stratify=True, random_state=23, shuffle=False)\n",
    "tfms  = [None, [Categorize()]]\n",
    "dsets = TSDatasets(X, y, tfms=tfms, splits=splits, inplace=True)\n",
    "dsets"
   ]
  },
  {
   "cell_type": "code",
   "execution_count": null,
   "metadata": {},
   "outputs": [
    {
     "data": {
      "text/plain": [
       "(tensor([[-0.2789, -0.4393, -0.3359, -0.6302],\n",
       "         [-0.0902, -0.3939, -0.5727, -0.8654],\n",
       "         [ 0.1076,  0.2762,  0.2720, -0.0565],\n",
       "         [-0.3312, -0.2302,  0.2543,  0.0864]]),\n",
       " TensorCategory(2))"
      ]
     },
     "execution_count": null,
     "metadata": {},
     "output_type": "execute_result"
    }
   ],
   "source": [
    "dsets[0][0].data, dsets[0][1].data"
   ]
  },
  {
   "cell_type": "code",
   "execution_count": null,
   "metadata": {},
   "outputs": [
    {
     "name": "stdout",
     "output_type": "stream",
     "text": [
      "input shape: (5, 100)\n"
     ]
    },
    {
     "data": {
      "text/html": [
       "<div>\n",
       "<style scoped>\n",
       "    .dataframe tbody tr th:only-of-type {\n",
       "        vertical-align: middle;\n",
       "    }\n",
       "\n",
       "    .dataframe tbody tr th {\n",
       "        vertical-align: top;\n",
       "    }\n",
       "\n",
       "    .dataframe thead th {\n",
       "        text-align: right;\n",
       "    }\n",
       "</style>\n",
       "<table border=\"1\" class=\"dataframe\">\n",
       "  <thead>\n",
       "    <tr style=\"text-align: right;\">\n",
       "      <th></th>\n",
       "      <th>0</th>\n",
       "      <th>1</th>\n",
       "      <th>2</th>\n",
       "      <th>3</th>\n",
       "      <th>4</th>\n",
       "      <th>5</th>\n",
       "      <th>6</th>\n",
       "      <th>7</th>\n",
       "      <th>8</th>\n",
       "      <th>9</th>\n",
       "      <th>...</th>\n",
       "      <th>90</th>\n",
       "      <th>91</th>\n",
       "      <th>92</th>\n",
       "      <th>93</th>\n",
       "      <th>94</th>\n",
       "      <th>95</th>\n",
       "      <th>96</th>\n",
       "      <th>97</th>\n",
       "      <th>98</th>\n",
       "      <th>99</th>\n",
       "    </tr>\n",
       "  </thead>\n",
       "  <tbody>\n",
       "    <tr>\n",
       "      <th>var_0</th>\n",
       "      <td>-0.396826</td>\n",
       "      <td>-0.584793</td>\n",
       "      <td>-0.753035</td>\n",
       "      <td>-1.235078</td>\n",
       "      <td>-1.175882</td>\n",
       "      <td>-0.858514</td>\n",
       "      <td>-1.014738</td>\n",
       "      <td>-0.988155</td>\n",
       "      <td>-1.286932</td>\n",
       "      <td>-1.338068</td>\n",
       "      <td>...</td>\n",
       "      <td>-0.655102</td>\n",
       "      <td>-0.416278</td>\n",
       "      <td>-0.567191</td>\n",
       "      <td>-0.563334</td>\n",
       "      <td>-0.223816</td>\n",
       "      <td>-0.692494</td>\n",
       "      <td>-0.342047</td>\n",
       "      <td>-0.678553</td>\n",
       "      <td>-0.818982</td>\n",
       "      <td>-0.395287</td>\n",
       "    </tr>\n",
       "    <tr>\n",
       "      <th>var_1</th>\n",
       "      <td>0.101784</td>\n",
       "      <td>0.140790</td>\n",
       "      <td>-0.166500</td>\n",
       "      <td>-0.262055</td>\n",
       "      <td>-0.401538</td>\n",
       "      <td>0.015751</td>\n",
       "      <td>-0.227840</td>\n",
       "      <td>-0.124859</td>\n",
       "      <td>0.304027</td>\n",
       "      <td>0.686724</td>\n",
       "      <td>...</td>\n",
       "      <td>3.522454</td>\n",
       "      <td>3.707845</td>\n",
       "      <td>3.302698</td>\n",
       "      <td>3.501154</td>\n",
       "      <td>3.150482</td>\n",
       "      <td>3.033596</td>\n",
       "      <td>2.931937</td>\n",
       "      <td>2.812061</td>\n",
       "      <td>2.997631</td>\n",
       "      <td>3.144549</td>\n",
       "    </tr>\n",
       "    <tr>\n",
       "      <th>var_2</th>\n",
       "      <td>0.347239</td>\n",
       "      <td>0.509674</td>\n",
       "      <td>0.354078</td>\n",
       "      <td>0.252386</td>\n",
       "      <td>0.441122</td>\n",
       "      <td>0.842774</td>\n",
       "      <td>1.123163</td>\n",
       "      <td>0.684701</td>\n",
       "      <td>0.235142</td>\n",
       "      <td>0.070800</td>\n",
       "      <td>...</td>\n",
       "      <td>-0.612066</td>\n",
       "      <td>-0.588531</td>\n",
       "      <td>-0.690947</td>\n",
       "      <td>-1.007796</td>\n",
       "      <td>-0.673262</td>\n",
       "      <td>-0.387539</td>\n",
       "      <td>-0.857754</td>\n",
       "      <td>-1.226365</td>\n",
       "      <td>-0.996411</td>\n",
       "      <td>-0.800580</td>\n",
       "    </tr>\n",
       "    <tr>\n",
       "      <th>var_3</th>\n",
       "      <td>-0.440455</td>\n",
       "      <td>-0.246624</td>\n",
       "      <td>0.192573</td>\n",
       "      <td>0.573121</td>\n",
       "      <td>0.191180</td>\n",
       "      <td>0.424844</td>\n",
       "      <td>0.244777</td>\n",
       "      <td>-0.060199</td>\n",
       "      <td>-0.522611</td>\n",
       "      <td>-0.345458</td>\n",
       "      <td>...</td>\n",
       "      <td>1.286289</td>\n",
       "      <td>1.525926</td>\n",
       "      <td>1.131440</td>\n",
       "      <td>0.790336</td>\n",
       "      <td>0.796382</td>\n",
       "      <td>0.752800</td>\n",
       "      <td>0.843915</td>\n",
       "      <td>0.646929</td>\n",
       "      <td>1.094649</td>\n",
       "      <td>0.820380</td>\n",
       "    </tr>\n",
       "    <tr>\n",
       "      <th>target</th>\n",
       "      <td>9.000000</td>\n",
       "      <td>2.000000</td>\n",
       "      <td>3.000000</td>\n",
       "      <td>2.000000</td>\n",
       "      <td>6.000000</td>\n",
       "      <td>8.000000</td>\n",
       "      <td>9.000000</td>\n",
       "      <td>2.000000</td>\n",
       "      <td>2.000000</td>\n",
       "      <td>3.000000</td>\n",
       "      <td>...</td>\n",
       "      <td>6.000000</td>\n",
       "      <td>5.000000</td>\n",
       "      <td>7.000000</td>\n",
       "      <td>0.000000</td>\n",
       "      <td>4.000000</td>\n",
       "      <td>4.000000</td>\n",
       "      <td>7.000000</td>\n",
       "      <td>2.000000</td>\n",
       "      <td>4.000000</td>\n",
       "      <td>0.000000</td>\n",
       "    </tr>\n",
       "  </tbody>\n",
       "</table>\n",
       "<p>5 rows × 100 columns</p>\n",
       "</div>"
      ],
      "text/plain": [
       "              0         1         2         3         4         5         6   \\\n",
       "var_0  -0.396826 -0.584793 -0.753035 -1.235078 -1.175882 -0.858514 -1.014738   \n",
       "var_1   0.101784  0.140790 -0.166500 -0.262055 -0.401538  0.015751 -0.227840   \n",
       "var_2   0.347239  0.509674  0.354078  0.252386  0.441122  0.842774  1.123163   \n",
       "var_3  -0.440455 -0.246624  0.192573  0.573121  0.191180  0.424844  0.244777   \n",
       "target  9.000000  2.000000  3.000000  2.000000  6.000000  8.000000  9.000000   \n",
       "\n",
       "              7         8         9   ...        90        91        92  \\\n",
       "var_0  -0.988155 -1.286932 -1.338068  ... -0.655102 -0.416278 -0.567191   \n",
       "var_1  -0.124859  0.304027  0.686724  ...  3.522454  3.707845  3.302698   \n",
       "var_2   0.684701  0.235142  0.070800  ... -0.612066 -0.588531 -0.690947   \n",
       "var_3  -0.060199 -0.522611 -0.345458  ...  1.286289  1.525926  1.131440   \n",
       "target  2.000000  2.000000  3.000000  ...  6.000000  5.000000  7.000000   \n",
       "\n",
       "              93        94        95        96        97        98        99  \n",
       "var_0  -0.563334 -0.223816 -0.692494 -0.342047 -0.678553 -0.818982 -0.395287  \n",
       "var_1   3.501154  3.150482  3.033596  2.931937  2.812061  2.997631  3.144549  \n",
       "var_2  -1.007796 -0.673262 -0.387539 -0.857754 -1.226365 -0.996411 -0.800580  \n",
       "var_3   0.790336  0.796382  0.752800  0.843915  0.646929  1.094649  0.820380  \n",
       "target  0.000000  4.000000  4.000000  7.000000  2.000000  4.000000  0.000000  \n",
       "\n",
       "[5 rows x 100 columns]"
      ]
     },
     "metadata": {},
     "output_type": "display_data"
    },
    {
     "data": {
      "image/png": "[encoded data removed]",
      "text/plain": [
       "<Figure size 1152x36 with 1 Axes>"
      ]
     },
     "metadata": {
      "needs_background": "light"
     },
     "output_type": "display_data"
    },
    {
     "data": {
      "text/plain": [
       "(#94) [(TSTensor(vars:4, len:4, device=cpu), TensorCategory(9)), (TSTensor(vars:4, len:4, device=cpu), TensorCategory(2)), (TSTensor(vars:4, len:4, device=cpu), TensorCategory(2)), (TSTensor(vars:4, len:4, device=cpu), TensorCategory(3)), (TSTensor(vars:4, len:4, device=cpu), TensorCategory(6)), (TSTensor(vars:4, len:4, device=cpu), TensorCategory(1)), (TSTensor(vars:4, len:4, device=cpu), TensorCategory(2)), (TSTensor(vars:4, len:4, device=cpu), TensorCategory(9)), (TSTensor(vars:4, len:4, device=cpu), TensorCategory(7)), (TSTensor(vars:4, len:4, device=cpu), TensorCategory(3))] ...]"
      ]
     },
     "execution_count": null,
     "metadata": {},
     "output_type": "execute_result"
    }
   ],
   "source": [
    "window_length = 4\n",
    "start = 3\n",
    "n_vars = 5\n",
    "seq_len = 100\n",
    "horizon = 0\n",
    "\n",
    "t1 = (np.random.rand(seq_len, n_vars-1) - .5).cumsum(0)\n",
    "t2 = np.random.randint(0, 10, (seq_len,1))\n",
    "t = np.concatenate((t1, t2), axis=-1)\n",
    "columns=[f'var_{i}' for i in range(n_vars-1)]+['target']\n",
    "df = pd.DataFrame(t, columns=columns).T\n",
    "print('input shape:', df.shape)\n",
    "display(df)\n",
    "X, y = SlidingWindow(window_length, start=start, horizon=horizon, get_x=columns[:-1], get_y='target', seq_first=False)(df)\n",
    "splits = get_splits(y, valid_size=.2, stratify=True, random_state=23, shuffle=False)\n",
    "tfms  = [None, [Categorize()]]\n",
    "dsets = TSDatasets(X, y, tfms=tfms, splits=splits, inplace=True)\n",
    "dsets"
   ]
  },
  {
   "cell_type": "code",
   "execution_count": null,
   "metadata": {},
   "outputs": [
    {
     "data": {
      "text/plain": [
       "(tensor([[-1.2351, -1.1759, -0.8585, -1.0147],\n",
       "         [-0.2621, -0.4015,  0.0158, -0.2278],\n",
       "         [ 0.2524,  0.4411,  0.8428,  1.1232],\n",
       "         [ 0.5731,  0.1912,  0.4248,  0.2448]]),\n",
       " TensorCategory(9))"
      ]
     },
     "execution_count": null,
     "metadata": {},
     "output_type": "execute_result"
    }
   ],
   "source": [
    "dsets[0][0].data, dsets[0][1].data"
   ]
  },
  {
   "cell_type": "markdown",
   "metadata": {},
   "source": [
    "## End-to-end example 🎬"
   ]
  },
  {
   "cell_type": "markdown",
   "metadata": {},
   "source": [
    "### Data split by sample"
   ]
  },
  {
   "cell_type": "markdown",
   "metadata": {},
   "source": [
    "This is a example using real data where the dataframe already the data split by sample. Let's first simulate how you could get the pandas df.\n",
    "\n",
    "In this case, you only need to convert the df format to X and y using `df2xy`as we have seen before."
   ]
  },
  {
   "cell_type": "code",
   "execution_count": null,
   "metadata": {},
   "outputs": [
    {
     "data": {
      "text/html": [
       "<div>\n",
       "<style scoped>\n",
       "    .dataframe tbody tr th:only-of-type {\n",
       "        vertical-align: middle;\n",
       "    }\n",
       "\n",
       "    .dataframe tbody tr th {\n",
       "        vertical-align: top;\n",
       "    }\n",
       "\n",
       "    .dataframe thead th {\n",
       "        text-align: right;\n",
       "    }\n",
       "</style>\n",
       "<table border=\"1\" class=\"dataframe\">\n",
       "  <thead>\n",
       "    <tr style=\"text-align: right;\">\n",
       "      <th></th>\n",
       "      <th>sample</th>\n",
       "      <th>feature</th>\n",
       "      <th>0</th>\n",
       "      <th>1</th>\n",
       "      <th>2</th>\n",
       "      <th>3</th>\n",
       "      <th>4</th>\n",
       "      <th>5</th>\n",
       "      <th>6</th>\n",
       "      <th>7</th>\n",
       "      <th>...</th>\n",
       "      <th>42</th>\n",
       "      <th>43</th>\n",
       "      <th>44</th>\n",
       "      <th>45</th>\n",
       "      <th>46</th>\n",
       "      <th>47</th>\n",
       "      <th>48</th>\n",
       "      <th>49</th>\n",
       "      <th>50</th>\n",
       "      <th>target</th>\n",
       "    </tr>\n",
       "  </thead>\n",
       "  <tbody>\n",
       "    <tr>\n",
       "      <th>0</th>\n",
       "      <td>0</td>\n",
       "      <td>0</td>\n",
       "      <td>-0.372758</td>\n",
       "      <td>-0.367844</td>\n",
       "      <td>-0.378445</td>\n",
       "      <td>-0.386751</td>\n",
       "      <td>-0.417101</td>\n",
       "      <td>-0.447204</td>\n",
       "      <td>-0.423585</td>\n",
       "      <td>-0.318506</td>\n",
       "      <td>...</td>\n",
       "      <td>-0.477529</td>\n",
       "      <td>-0.487402</td>\n",
       "      <td>-0.485995</td>\n",
       "      <td>-0.480247</td>\n",
       "      <td>-0.496073</td>\n",
       "      <td>-0.491603</td>\n",
       "      <td>-0.537007</td>\n",
       "      <td>-0.475939</td>\n",
       "      <td>-0.479505</td>\n",
       "      <td>4.0</td>\n",
       "    </tr>\n",
       "    <tr>\n",
       "      <th>1</th>\n",
       "      <td>0</td>\n",
       "      <td>1</td>\n",
       "      <td>-1.821679</td>\n",
       "      <td>-1.841987</td>\n",
       "      <td>-1.821358</td>\n",
       "      <td>-1.845643</td>\n",
       "      <td>-1.941721</td>\n",
       "      <td>-2.005778</td>\n",
       "      <td>-1.817611</td>\n",
       "      <td>-1.560247</td>\n",
       "      <td>...</td>\n",
       "      <td>-1.843810</td>\n",
       "      <td>-1.830620</td>\n",
       "      <td>-1.820712</td>\n",
       "      <td>-1.781465</td>\n",
       "      <td>-1.804775</td>\n",
       "      <td>-1.799706</td>\n",
       "      <td>-1.751323</td>\n",
       "      <td>-1.772353</td>\n",
       "      <td>-1.761632</td>\n",
       "      <td>4.0</td>\n",
       "    </tr>\n",
       "    <tr>\n",
       "      <th>2</th>\n",
       "      <td>0</td>\n",
       "      <td>2</td>\n",
       "      <td>-0.846321</td>\n",
       "      <td>-0.846325</td>\n",
       "      <td>-0.839571</td>\n",
       "      <td>-0.848031</td>\n",
       "      <td>-0.885500</td>\n",
       "      <td>-1.002093</td>\n",
       "      <td>-1.227122</td>\n",
       "      <td>-1.452898</td>\n",
       "      <td>...</td>\n",
       "      <td>-0.737160</td>\n",
       "      <td>-0.750605</td>\n",
       "      <td>-0.727674</td>\n",
       "      <td>-0.726221</td>\n",
       "      <td>-0.749053</td>\n",
       "      <td>-0.776479</td>\n",
       "      <td>-0.603740</td>\n",
       "      <td>-0.763048</td>\n",
       "      <td>-0.793202</td>\n",
       "      <td>4.0</td>\n",
       "    </tr>\n",
       "    <tr>\n",
       "      <th>3</th>\n",
       "      <td>0</td>\n",
       "      <td>3</td>\n",
       "      <td>0.465208</td>\n",
       "      <td>0.467033</td>\n",
       "      <td>0.471135</td>\n",
       "      <td>0.506153</td>\n",
       "      <td>0.611207</td>\n",
       "      <td>0.697417</td>\n",
       "      <td>0.721512</td>\n",
       "      <td>0.652092</td>\n",
       "      <td>...</td>\n",
       "      <td>0.510333</td>\n",
       "      <td>0.412795</td>\n",
       "      <td>0.412242</td>\n",
       "      <td>0.455973</td>\n",
       "      <td>0.446786</td>\n",
       "      <td>0.425194</td>\n",
       "      <td>0.434855</td>\n",
       "      <td>0.468405</td>\n",
       "      <td>0.460464</td>\n",
       "      <td>4.0</td>\n",
       "    </tr>\n",
       "    <tr>\n",
       "      <th>4</th>\n",
       "      <td>0</td>\n",
       "      <td>4</td>\n",
       "      <td>-2.015072</td>\n",
       "      <td>-2.007557</td>\n",
       "      <td>-2.010042</td>\n",
       "      <td>-2.032552</td>\n",
       "      <td>-1.953282</td>\n",
       "      <td>-1.861078</td>\n",
       "      <td>-1.699443</td>\n",
       "      <td>-1.253402</td>\n",
       "      <td>...</td>\n",
       "      <td>-1.953984</td>\n",
       "      <td>-2.004474</td>\n",
       "      <td>-1.991646</td>\n",
       "      <td>-1.997254</td>\n",
       "      <td>-1.998531</td>\n",
       "      <td>-1.976082</td>\n",
       "      <td>-1.960404</td>\n",
       "      <td>-2.006394</td>\n",
       "      <td>-1.969680</td>\n",
       "      <td>4.0</td>\n",
       "    </tr>\n",
       "    <tr>\n",
       "      <th>...</th>\n",
       "      <td>...</td>\n",
       "      <td>...</td>\n",
       "      <td>...</td>\n",
       "      <td>...</td>\n",
       "      <td>...</td>\n",
       "      <td>...</td>\n",
       "      <td>...</td>\n",
       "      <td>...</td>\n",
       "      <td>...</td>\n",
       "      <td>...</td>\n",
       "      <td>...</td>\n",
       "      <td>...</td>\n",
       "      <td>...</td>\n",
       "      <td>...</td>\n",
       "      <td>...</td>\n",
       "      <td>...</td>\n",
       "      <td>...</td>\n",
       "      <td>...</td>\n",
       "      <td>...</td>\n",
       "      <td>...</td>\n",
       "      <td>...</td>\n",
       "    </tr>\n",
       "    <tr>\n",
       "      <th>8635</th>\n",
       "      <td>359</td>\n",
       "      <td>19</td>\n",
       "      <td>-1.658398</td>\n",
       "      <td>-1.617639</td>\n",
       "      <td>-1.623446</td>\n",
       "      <td>-1.690049</td>\n",
       "      <td>-1.596608</td>\n",
       "      <td>-1.631068</td>\n",
       "      <td>-1.524069</td>\n",
       "      <td>-1.515474</td>\n",
       "      <td>...</td>\n",
       "      <td>-1.195383</td>\n",
       "      <td>-1.413512</td>\n",
       "      <td>-1.810155</td>\n",
       "      <td>-1.614774</td>\n",
       "      <td>-1.684754</td>\n",
       "      <td>-1.659315</td>\n",
       "      <td>-1.705025</td>\n",
       "      <td>-1.678066</td>\n",
       "      <td>-1.641795</td>\n",
       "      <td>4.0</td>\n",
       "    </tr>\n",
       "    <tr>\n",
       "      <th>8636</th>\n",
       "      <td>359</td>\n",
       "      <td>20</td>\n",
       "      <td>-0.679048</td>\n",
       "      <td>-0.654021</td>\n",
       "      <td>-0.656639</td>\n",
       "      <td>-0.711966</td>\n",
       "      <td>-0.742536</td>\n",
       "      <td>-0.748806</td>\n",
       "      <td>-0.806330</td>\n",
       "      <td>-0.913220</td>\n",
       "      <td>...</td>\n",
       "      <td>-0.841650</td>\n",
       "      <td>-0.782175</td>\n",
       "      <td>-0.734422</td>\n",
       "      <td>-0.684311</td>\n",
       "      <td>-0.651485</td>\n",
       "      <td>-0.660619</td>\n",
       "      <td>-0.690759</td>\n",
       "      <td>-0.716252</td>\n",
       "      <td>-0.704824</td>\n",
       "      <td>4.0</td>\n",
       "    </tr>\n",
       "    <tr>\n",
       "      <th>8637</th>\n",
       "      <td>359</td>\n",
       "      <td>21</td>\n",
       "      <td>0.499991</td>\n",
       "      <td>0.390842</td>\n",
       "      <td>0.396292</td>\n",
       "      <td>0.395197</td>\n",
       "      <td>0.441420</td>\n",
       "      <td>0.881352</td>\n",
       "      <td>1.140342</td>\n",
       "      <td>1.473447</td>\n",
       "      <td>...</td>\n",
       "      <td>1.686165</td>\n",
       "      <td>1.448840</td>\n",
       "      <td>1.241460</td>\n",
       "      <td>1.038313</td>\n",
       "      <td>0.870652</td>\n",
       "      <td>0.754220</td>\n",
       "      <td>0.568415</td>\n",
       "      <td>0.550804</td>\n",
       "      <td>0.562437</td>\n",
       "      <td>4.0</td>\n",
       "    </tr>\n",
       "    <tr>\n",
       "      <th>8638</th>\n",
       "      <td>359</td>\n",
       "      <td>22</td>\n",
       "      <td>-1.664080</td>\n",
       "      <td>-1.725331</td>\n",
       "      <td>-1.686976</td>\n",
       "      <td>-1.650568</td>\n",
       "      <td>-1.716866</td>\n",
       "      <td>-1.749081</td>\n",
       "      <td>-1.737207</td>\n",
       "      <td>-1.571937</td>\n",
       "      <td>...</td>\n",
       "      <td>-1.136640</td>\n",
       "      <td>-1.347163</td>\n",
       "      <td>-1.513772</td>\n",
       "      <td>-1.617310</td>\n",
       "      <td>-1.659452</td>\n",
       "      <td>-1.727294</td>\n",
       "      <td>-1.877402</td>\n",
       "      <td>-1.903281</td>\n",
       "      <td>-1.895895</td>\n",
       "      <td>4.0</td>\n",
       "    </tr>\n",
       "    <tr>\n",
       "      <th>8639</th>\n",
       "      <td>359</td>\n",
       "      <td>23</td>\n",
       "      <td>-0.733138</td>\n",
       "      <td>-0.718382</td>\n",
       "      <td>-0.705195</td>\n",
       "      <td>-0.694358</td>\n",
       "      <td>-0.675056</td>\n",
       "      <td>-0.671773</td>\n",
       "      <td>-0.556493</td>\n",
       "      <td>-0.490029</td>\n",
       "      <td>...</td>\n",
       "      <td>-0.367544</td>\n",
       "      <td>-0.473136</td>\n",
       "      <td>-0.591317</td>\n",
       "      <td>-0.588854</td>\n",
       "      <td>-0.607189</td>\n",
       "      <td>-0.618963</td>\n",
       "      <td>-0.412571</td>\n",
       "      <td>-0.472645</td>\n",
       "      <td>-0.454302</td>\n",
       "      <td>4.0</td>\n",
       "    </tr>\n",
       "  </tbody>\n",
       "</table>\n",
       "<p>8640 rows × 54 columns</p>\n",
       "</div>"
      ],
      "text/plain": [
       "      sample  feature         0         1         2         3         4  \\\n",
       "0          0        0 -0.372758 -0.367844 -0.378445 -0.386751 -0.417101   \n",
       "1          0        1 -1.821679 -1.841987 -1.821358 -1.845643 -1.941721   \n",
       "2          0        2 -0.846321 -0.846325 -0.839571 -0.848031 -0.885500   \n",
       "3          0        3  0.465208  0.467033  0.471135  0.506153  0.611207   \n",
       "4          0        4 -2.015072 -2.007557 -2.010042 -2.032552 -1.953282   \n",
       "...      ...      ...       ...       ...       ...       ...       ...   \n",
       "8635     359       19 -1.658398 -1.617639 -1.623446 -1.690049 -1.596608   \n",
       "8636     359       20 -0.679048 -0.654021 -0.656639 -0.711966 -0.742536   \n",
       "8637     359       21  0.499991  0.390842  0.396292  0.395197  0.441420   \n",
       "8638     359       22 -1.664080 -1.725331 -1.686976 -1.650568 -1.716866   \n",
       "8639     359       23 -0.733138 -0.718382 -0.705195 -0.694358 -0.675056   \n",
       "\n",
       "             5         6         7  ...        42        43        44  \\\n",
       "0    -0.447204 -0.423585 -0.318506  ... -0.477529 -0.487402 -0.485995   \n",
       "1    -2.005778 -1.817611 -1.560247  ... -1.843810 -1.830620 -1.820712   \n",
       "2    -1.002093 -1.227122 -1.452898  ... -0.737160 -0.750605 -0.727674   \n",
       "3     0.697417  0.721512  0.652092  ...  0.510333  0.412795  0.412242   \n",
       "4    -1.861078 -1.699443 -1.253402  ... -1.953984 -2.004474 -1.991646   \n",
       "...        ...       ...       ...  ...       ...       ...       ...   \n",
       "8635 -1.631068 -1.524069 -1.515474  ... -1.195383 -1.413512 -1.810155   \n",
       "8636 -0.748806 -0.806330 -0.913220  ... -0.841650 -0.782175 -0.734422   \n",
       "8637  0.881352  1.140342  1.473447  ...  1.686165  1.448840  1.241460   \n",
       "8638 -1.749081 -1.737207 -1.571937  ... -1.136640 -1.347163 -1.513772   \n",
       "8639 -0.671773 -0.556493 -0.490029  ... -0.367544 -0.473136 -0.591317   \n",
       "\n",
       "            45        46        47        48        49        50  target  \n",
       "0    -0.480247 -0.496073 -0.491603 -0.537007 -0.475939 -0.479505     4.0  \n",
       "1    -1.781465 -1.804775 -1.799706 -1.751323 -1.772353 -1.761632     4.0  \n",
       "2    -0.726221 -0.749053 -0.776479 -0.603740 -0.763048 -0.793202     4.0  \n",
       "3     0.455973  0.446786  0.425194  0.434855  0.468405  0.460464     4.0  \n",
       "4    -1.997254 -1.998531 -1.976082 -1.960404 -2.006394 -1.969680     4.0  \n",
       "...        ...       ...       ...       ...       ...       ...     ...  \n",
       "8635 -1.614774 -1.684754 -1.659315 -1.705025 -1.678066 -1.641795     4.0  \n",
       "8636 -0.684311 -0.651485 -0.660619 -0.690759 -0.716252 -0.704824     4.0  \n",
       "8637  1.038313  0.870652  0.754220  0.568415  0.550804  0.562437     4.0  \n",
       "8638 -1.617310 -1.659452 -1.727294 -1.877402 -1.903281 -1.895895     4.0  \n",
       "8639 -0.588854 -0.607189 -0.618963 -0.412571 -0.472645 -0.454302     4.0  \n",
       "\n",
       "[8640 rows x 54 columns]"
      ]
     },
     "execution_count": null,
     "metadata": {},
     "output_type": "execute_result"
    }
   ],
   "source": [
    "ds_name = 'NATOPS' \n",
    "X, y, splits = get_UCR_data(ds_name, return_split=False)\n",
    "data = np.concatenate((np.arange(len(X)).repeat(X.shape[1]).reshape(-1,1), np.tile(np.arange(X.shape[1]), len(X)).reshape(-1,1)), axis=1)\n",
    "df1 = pd.DataFrame(data, columns=['sample', 'feature'])\n",
    "df2 = pd.DataFrame(X.reshape(-1, 51))\n",
    "df3 = pd.DataFrame(np.repeat(y, X.shape[1]), columns=['target'])\n",
    "df = df1.merge(df2, left_index=True, right_index=True)\n",
    "df = df.merge(df3, left_index=True, right_index=True)\n",
    "df"
   ]
  },
  {
   "cell_type": "markdown",
   "metadata": {},
   "source": [
    "In this case, we can shuffle the data as the individual time series are independent from the rest."
   ]
  },
  {
   "cell_type": "code",
   "execution_count": null,
   "metadata": {},
   "outputs": [
    {
     "data": {
      "image/png": "[encoded data removed]",
      "text/plain": [
       "<Figure size 1152x36 with 1 Axes>"
      ]
     },
     "metadata": {
      "needs_background": "light"
     },
     "output_type": "display_data"
    },
    {
     "data": {
      "text/plain": [
       "(#360) [(TSTensor(vars:24, len:51, device=cpu), TensorCategory(0)), (TSTensor(vars:24, len:51, device=cpu), TensorCategory(0)), (TSTensor(vars:24, len:51, device=cpu), TensorCategory(0)), (TSTensor(vars:24, len:51, device=cpu), TensorCategory(0)), (TSTensor(vars:24, len:51, device=cpu), TensorCategory(0)), (TSTensor(vars:24, len:51, device=cpu), TensorCategory(0)), (TSTensor(vars:24, len:51, device=cpu), TensorCategory(0)), (TSTensor(vars:24, len:51, device=cpu), TensorCategory(0)), (TSTensor(vars:24, len:51, device=cpu), TensorCategory(0)), (TSTensor(vars:24, len:51, device=cpu), TensorCategory(0))] ...]"
      ]
     },
     "execution_count": null,
     "metadata": {},
     "output_type": "execute_result"
    }
   ],
   "source": [
    "def y_func(o): return o[0]\n",
    "X, y = df2xy(df, sample_col='sample', feat_col='feature', target_col='target', data_cols=df.columns[2:-1], y_func=y_func)\n",
    "splits = get_splits(y, valid_size=.2, stratify=True, random_state=23, shuffle=True)\n",
    "tfms  = [None, TSClassification()]\n",
    "dsets = TSDatasets(X, y, tfms=tfms, splits=splits)\n",
    "dsets"
   ]
  },
  {
   "cell_type": "markdown",
   "metadata": {},
   "source": [
    "### Single multivariate time series"
   ]
  },
  {
   "cell_type": "markdown",
   "metadata": {},
   "source": [
    "In this second scenario, we have a single time series, and we'll need to decide how to create the individual samples using the `SlidingWindow`function.\n",
    "\n",
    "This is how you could get the dataframe, with many columns for each feature, and a target."
   ]
  },
  {
   "cell_type": "code",
   "execution_count": null,
   "metadata": {},
   "outputs": [
    {
     "name": "stdout",
     "output_type": "stream",
     "text": [
      "(360, 24, 51) (24, 18360)\n"
     ]
    },
    {
     "data": {
      "text/html": [
       "<div>\n",
       "<style scoped>\n",
       "    .dataframe tbody tr th:only-of-type {\n",
       "        vertical-align: middle;\n",
       "    }\n",
       "\n",
       "    .dataframe tbody tr th {\n",
       "        vertical-align: top;\n",
       "    }\n",
       "\n",
       "    .dataframe thead th {\n",
       "        text-align: right;\n",
       "    }\n",
       "</style>\n",
       "<table border=\"1\" class=\"dataframe\">\n",
       "  <thead>\n",
       "    <tr style=\"text-align: right;\">\n",
       "      <th></th>\n",
       "      <th>0</th>\n",
       "      <th>1</th>\n",
       "      <th>2</th>\n",
       "      <th>3</th>\n",
       "      <th>4</th>\n",
       "      <th>5</th>\n",
       "      <th>6</th>\n",
       "      <th>7</th>\n",
       "      <th>8</th>\n",
       "      <th>9</th>\n",
       "      <th>...</th>\n",
       "      <th>15</th>\n",
       "      <th>16</th>\n",
       "      <th>17</th>\n",
       "      <th>18</th>\n",
       "      <th>19</th>\n",
       "      <th>20</th>\n",
       "      <th>21</th>\n",
       "      <th>22</th>\n",
       "      <th>23</th>\n",
       "      <th>target</th>\n",
       "    </tr>\n",
       "  </thead>\n",
       "  <tbody>\n",
       "    <tr>\n",
       "      <th>0</th>\n",
       "      <td>-0.372758</td>\n",
       "      <td>-1.821679</td>\n",
       "      <td>-0.846321</td>\n",
       "      <td>0.465208</td>\n",
       "      <td>-2.015072</td>\n",
       "      <td>-0.839242</td>\n",
       "      <td>-0.564097</td>\n",
       "      <td>-0.796225</td>\n",
       "      <td>-0.149604</td>\n",
       "      <td>0.599967</td>\n",
       "      <td>...</td>\n",
       "      <td>0.577993</td>\n",
       "      <td>-1.534954</td>\n",
       "      <td>-0.673190</td>\n",
       "      <td>-0.536343</td>\n",
       "      <td>-1.626957</td>\n",
       "      <td>-0.594337</td>\n",
       "      <td>0.619205</td>\n",
       "      <td>-1.771773</td>\n",
       "      <td>-0.810086</td>\n",
       "      <td>4.0</td>\n",
       "    </tr>\n",
       "    <tr>\n",
       "      <th>1</th>\n",
       "      <td>-0.367844</td>\n",
       "      <td>-1.841987</td>\n",
       "      <td>-0.846325</td>\n",
       "      <td>0.467033</td>\n",
       "      <td>-2.007557</td>\n",
       "      <td>-0.838151</td>\n",
       "      <td>-0.564499</td>\n",
       "      <td>-0.797622</td>\n",
       "      <td>-0.150012</td>\n",
       "      <td>0.597535</td>\n",
       "      <td>...</td>\n",
       "      <td>0.576627</td>\n",
       "      <td>-1.532795</td>\n",
       "      <td>-0.671919</td>\n",
       "      <td>-0.533816</td>\n",
       "      <td>-1.642514</td>\n",
       "      <td>-0.605328</td>\n",
       "      <td>0.617045</td>\n",
       "      <td>-1.796660</td>\n",
       "      <td>-0.818863</td>\n",
       "      <td>4.0</td>\n",
       "    </tr>\n",
       "    <tr>\n",
       "      <th>2</th>\n",
       "      <td>-0.378445</td>\n",
       "      <td>-1.821358</td>\n",
       "      <td>-0.839571</td>\n",
       "      <td>0.471135</td>\n",
       "      <td>-2.010042</td>\n",
       "      <td>-0.832021</td>\n",
       "      <td>-0.563753</td>\n",
       "      <td>-0.795704</td>\n",
       "      <td>-0.151608</td>\n",
       "      <td>0.597007</td>\n",
       "      <td>...</td>\n",
       "      <td>0.576456</td>\n",
       "      <td>-1.532478</td>\n",
       "      <td>-0.671555</td>\n",
       "      <td>-0.526319</td>\n",
       "      <td>-1.697145</td>\n",
       "      <td>-0.624302</td>\n",
       "      <td>0.624789</td>\n",
       "      <td>-1.738568</td>\n",
       "      <td>-0.788060</td>\n",
       "      <td>4.0</td>\n",
       "    </tr>\n",
       "    <tr>\n",
       "      <th>3</th>\n",
       "      <td>-0.386751</td>\n",
       "      <td>-1.845643</td>\n",
       "      <td>-0.848031</td>\n",
       "      <td>0.506153</td>\n",
       "      <td>-2.032552</td>\n",
       "      <td>-0.841696</td>\n",
       "      <td>-0.565008</td>\n",
       "      <td>-0.790238</td>\n",
       "      <td>-0.152350</td>\n",
       "      <td>0.599099</td>\n",
       "      <td>...</td>\n",
       "      <td>0.579362</td>\n",
       "      <td>-1.535441</td>\n",
       "      <td>-0.672198</td>\n",
       "      <td>-0.554538</td>\n",
       "      <td>-1.644413</td>\n",
       "      <td>-0.602884</td>\n",
       "      <td>0.634100</td>\n",
       "      <td>-1.749744</td>\n",
       "      <td>-0.816695</td>\n",
       "      <td>4.0</td>\n",
       "    </tr>\n",
       "    <tr>\n",
       "      <th>4</th>\n",
       "      <td>-0.417101</td>\n",
       "      <td>-1.941721</td>\n",
       "      <td>-0.885500</td>\n",
       "      <td>0.611207</td>\n",
       "      <td>-1.953282</td>\n",
       "      <td>-0.902529</td>\n",
       "      <td>-0.573550</td>\n",
       "      <td>-0.799730</td>\n",
       "      <td>-0.169575</td>\n",
       "      <td>0.606181</td>\n",
       "      <td>...</td>\n",
       "      <td>0.626759</td>\n",
       "      <td>-1.482552</td>\n",
       "      <td>-0.659393</td>\n",
       "      <td>-0.576196</td>\n",
       "      <td>-1.763092</td>\n",
       "      <td>-0.694843</td>\n",
       "      <td>0.680086</td>\n",
       "      <td>-1.664565</td>\n",
       "      <td>-0.857897</td>\n",
       "      <td>4.0</td>\n",
       "    </tr>\n",
       "    <tr>\n",
       "      <th>...</th>\n",
       "      <td>...</td>\n",
       "      <td>...</td>\n",
       "      <td>...</td>\n",
       "      <td>...</td>\n",
       "      <td>...</td>\n",
       "      <td>...</td>\n",
       "      <td>...</td>\n",
       "      <td>...</td>\n",
       "      <td>...</td>\n",
       "      <td>...</td>\n",
       "      <td>...</td>\n",
       "      <td>...</td>\n",
       "      <td>...</td>\n",
       "      <td>...</td>\n",
       "      <td>...</td>\n",
       "      <td>...</td>\n",
       "      <td>...</td>\n",
       "      <td>...</td>\n",
       "      <td>...</td>\n",
       "      <td>...</td>\n",
       "      <td>...</td>\n",
       "    </tr>\n",
       "    <tr>\n",
       "      <th>18355</th>\n",
       "      <td>-0.845492</td>\n",
       "      <td>-1.919878</td>\n",
       "      <td>-0.583276</td>\n",
       "      <td>0.856647</td>\n",
       "      <td>-1.978063</td>\n",
       "      <td>-0.553987</td>\n",
       "      <td>-0.790264</td>\n",
       "      <td>-0.770808</td>\n",
       "      <td>-0.075527</td>\n",
       "      <td>0.673925</td>\n",
       "      <td>...</td>\n",
       "      <td>0.857950</td>\n",
       "      <td>-1.527194</td>\n",
       "      <td>-0.315056</td>\n",
       "      <td>-0.889773</td>\n",
       "      <td>-1.684754</td>\n",
       "      <td>-0.651485</td>\n",
       "      <td>0.870652</td>\n",
       "      <td>-1.659452</td>\n",
       "      <td>-0.607189</td>\n",
       "      <td>4.0</td>\n",
       "    </tr>\n",
       "    <tr>\n",
       "      <th>18356</th>\n",
       "      <td>-0.761116</td>\n",
       "      <td>-1.945017</td>\n",
       "      <td>-0.587023</td>\n",
       "      <td>0.680567</td>\n",
       "      <td>-1.992559</td>\n",
       "      <td>-0.566642</td>\n",
       "      <td>-0.759338</td>\n",
       "      <td>-0.790078</td>\n",
       "      <td>-0.090382</td>\n",
       "      <td>0.630602</td>\n",
       "      <td>...</td>\n",
       "      <td>0.737224</td>\n",
       "      <td>-1.501386</td>\n",
       "      <td>-0.315699</td>\n",
       "      <td>-0.642052</td>\n",
       "      <td>-1.659315</td>\n",
       "      <td>-0.660619</td>\n",
       "      <td>0.754220</td>\n",
       "      <td>-1.727294</td>\n",
       "      <td>-0.618963</td>\n",
       "      <td>4.0</td>\n",
       "    </tr>\n",
       "    <tr>\n",
       "      <th>18357</th>\n",
       "      <td>-0.679080</td>\n",
       "      <td>-1.933950</td>\n",
       "      <td>-0.615705</td>\n",
       "      <td>0.574144</td>\n",
       "      <td>-1.986102</td>\n",
       "      <td>-0.572386</td>\n",
       "      <td>-0.741427</td>\n",
       "      <td>-0.793610</td>\n",
       "      <td>-0.100764</td>\n",
       "      <td>0.607822</td>\n",
       "      <td>...</td>\n",
       "      <td>0.659843</td>\n",
       "      <td>-1.503965</td>\n",
       "      <td>-0.324704</td>\n",
       "      <td>-0.609636</td>\n",
       "      <td>-1.705025</td>\n",
       "      <td>-0.690759</td>\n",
       "      <td>0.568415</td>\n",
       "      <td>-1.877402</td>\n",
       "      <td>-0.412571</td>\n",
       "      <td>4.0</td>\n",
       "    </tr>\n",
       "    <tr>\n",
       "      <th>18358</th>\n",
       "      <td>-0.670308</td>\n",
       "      <td>-1.916436</td>\n",
       "      <td>-0.634439</td>\n",
       "      <td>0.478221</td>\n",
       "      <td>-2.078024</td>\n",
       "      <td>-0.620835</td>\n",
       "      <td>-0.731334</td>\n",
       "      <td>-0.790556</td>\n",
       "      <td>-0.109856</td>\n",
       "      <td>0.600801</td>\n",
       "      <td>...</td>\n",
       "      <td>0.597387</td>\n",
       "      <td>-1.612530</td>\n",
       "      <td>-0.412526</td>\n",
       "      <td>-0.560203</td>\n",
       "      <td>-1.678066</td>\n",
       "      <td>-0.716252</td>\n",
       "      <td>0.550804</td>\n",
       "      <td>-1.903281</td>\n",
       "      <td>-0.472645</td>\n",
       "      <td>4.0</td>\n",
       "    </tr>\n",
       "    <tr>\n",
       "      <th>18359</th>\n",
       "      <td>-0.651644</td>\n",
       "      <td>-1.911442</td>\n",
       "      <td>-0.656298</td>\n",
       "      <td>0.469341</td>\n",
       "      <td>-2.086228</td>\n",
       "      <td>-0.644960</td>\n",
       "      <td>-0.725837</td>\n",
       "      <td>-0.787746</td>\n",
       "      <td>-0.116215</td>\n",
       "      <td>0.597154</td>\n",
       "      <td>...</td>\n",
       "      <td>0.591917</td>\n",
       "      <td>-1.623406</td>\n",
       "      <td>-0.413167</td>\n",
       "      <td>-0.557817</td>\n",
       "      <td>-1.641795</td>\n",
       "      <td>-0.704824</td>\n",
       "      <td>0.562437</td>\n",
       "      <td>-1.895895</td>\n",
       "      <td>-0.454302</td>\n",
       "      <td>4.0</td>\n",
       "    </tr>\n",
       "  </tbody>\n",
       "</table>\n",
       "<p>18360 rows × 25 columns</p>\n",
       "</div>"
      ],
      "text/plain": [
       "              0         1         2         3         4         5         6  \\\n",
       "0     -0.372758 -1.821679 -0.846321  0.465208 -2.015072 -0.839242 -0.564097   \n",
       "1     -0.367844 -1.841987 -0.846325  0.467033 -2.007557 -0.838151 -0.564499   \n",
       "2     -0.378445 -1.821358 -0.839571  0.471135 -2.010042 -0.832021 -0.563753   \n",
       "3     -0.386751 -1.845643 -0.848031  0.506153 -2.032552 -0.841696 -0.565008   \n",
       "4     -0.417101 -1.941721 -0.885500  0.611207 -1.953282 -0.902529 -0.573550   \n",
       "...         ...       ...       ...       ...       ...       ...       ...   \n",
       "18355 -0.845492 -1.919878 -0.583276  0.856647 -1.978063 -0.553987 -0.790264   \n",
       "18356 -0.761116 -1.945017 -0.587023  0.680567 -1.992559 -0.566642 -0.759338   \n",
       "18357 -0.679080 -1.933950 -0.615705  0.574144 -1.986102 -0.572386 -0.741427   \n",
       "18358 -0.670308 -1.916436 -0.634439  0.478221 -2.078024 -0.620835 -0.731334   \n",
       "18359 -0.651644 -1.911442 -0.656298  0.469341 -2.086228 -0.644960 -0.725837   \n",
       "\n",
       "              7         8         9  ...        15        16        17  \\\n",
       "0     -0.796225 -0.149604  0.599967  ...  0.577993 -1.534954 -0.673190   \n",
       "1     -0.797622 -0.150012  0.597535  ...  0.576627 -1.532795 -0.671919   \n",
       "2     -0.795704 -0.151608  0.597007  ...  0.576456 -1.532478 -0.671555   \n",
       "3     -0.790238 -0.152350  0.599099  ...  0.579362 -1.535441 -0.672198   \n",
       "4     -0.799730 -0.169575  0.606181  ...  0.626759 -1.482552 -0.659393   \n",
       "...         ...       ...       ...  ...       ...       ...       ...   \n",
       "18355 -0.770808 -0.075527  0.673925  ...  0.857950 -1.527194 -0.315056   \n",
       "18356 -0.790078 -0.090382  0.630602  ...  0.737224 -1.501386 -0.315699   \n",
       "18357 -0.793610 -0.100764  0.607822  ...  0.659843 -1.503965 -0.324704   \n",
       "18358 -0.790556 -0.109856  0.600801  ...  0.597387 -1.612530 -0.412526   \n",
       "18359 -0.787746 -0.116215  0.597154  ...  0.591917 -1.623406 -0.413167   \n",
       "\n",
       "             18        19        20        21        22        23  target  \n",
       "0     -0.536343 -1.626957 -0.594337  0.619205 -1.771773 -0.810086     4.0  \n",
       "1     -0.533816 -1.642514 -0.605328  0.617045 -1.796660 -0.818863     4.0  \n",
       "2     -0.526319 -1.697145 -0.624302  0.624789 -1.738568 -0.788060     4.0  \n",
       "3     -0.554538 -1.644413 -0.602884  0.634100 -1.749744 -0.816695     4.0  \n",
       "4     -0.576196 -1.763092 -0.694843  0.680086 -1.664565 -0.857897     4.0  \n",
       "...         ...       ...       ...       ...       ...       ...     ...  \n",
       "18355 -0.889773 -1.684754 -0.651485  0.870652 -1.659452 -0.607189     4.0  \n",
       "18356 -0.642052 -1.659315 -0.660619  0.754220 -1.727294 -0.618963     4.0  \n",
       "18357 -0.609636 -1.705025 -0.690759  0.568415 -1.877402 -0.412571     4.0  \n",
       "18358 -0.560203 -1.678066 -0.716252  0.550804 -1.903281 -0.472645     4.0  \n",
       "18359 -0.557817 -1.641795 -0.704824  0.562437 -1.895895 -0.454302     4.0  \n",
       "\n",
       "[18360 rows x 25 columns]"
      ]
     },
     "execution_count": null,
     "metadata": {},
     "output_type": "execute_result"
    }
   ],
   "source": [
    "ds_name = 'NATOPS' \n",
    "X, y, splits = get_UCR_data(ds_name, return_split=False)\n",
    "data = X.transpose(1,0,2).reshape(X.shape[1], -1)\n",
    "print(X.shape, data.shape)\n",
    "df = pd.DataFrame(data).T\n",
    "df2 = pd.DataFrame(np.repeat(y, X.shape[2]), columns=['target'])\n",
    "df = df.merge(df2, left_index=True, right_index=True)\n",
    "df"
   ]
  },
  {
   "cell_type": "markdown",
   "metadata": {},
   "source": [
    "In this case, you'll need to set the following parameters:\n",
    " \n",
    "* window_length\n",
    "* stride\n",
    "* start\n",
    "* horizon\n",
    "* get_x\n",
    "* get_y\n",
    "* seq_first\n",
    "\n",
    "You also need to bear in mind that you sould set shuffle=False when using splits since the individual time series are correlated with rest."
   ]
  },
  {
   "cell_type": "code",
   "execution_count": null,
   "metadata": {},
   "outputs": [
    {
     "data": {
      "image/png": "[encoded data removed]",
      "text/plain": [
       "<Figure size 1152x36 with 1 Axes>"
      ]
     },
     "metadata": {
      "needs_background": "light"
     },
     "output_type": "display_data"
    },
    {
     "data": {
      "text/plain": [
       "(#360) [(TSTensor(vars:24, len:51, device=cpu), TensorCategory(3)), (TSTensor(vars:24, len:51, device=cpu), TensorCategory(2)), (TSTensor(vars:24, len:51, device=cpu), TensorCategory(2)), (TSTensor(vars:24, len:51, device=cpu), TensorCategory(3)), (TSTensor(vars:24, len:51, device=cpu), TensorCategory(2)), (TSTensor(vars:24, len:51, device=cpu), TensorCategory(4)), (TSTensor(vars:24, len:51, device=cpu), TensorCategory(0)), (TSTensor(vars:24, len:51, device=cpu), TensorCategory(5)), (TSTensor(vars:24, len:51, device=cpu), TensorCategory(2)), (TSTensor(vars:24, len:51, device=cpu), TensorCategory(1))] ...]"
      ]
     },
     "execution_count": null,
     "metadata": {},
     "output_type": "execute_result"
    }
   ],
   "source": [
    "window_length = X.shape[-1]  # window_length is usually selected based on prior domain knowledge or by trial and error\n",
    "stride = None                # None for non-overlapping (stride = window_length) (default = 1). This depends on how often you want to predict once the model is trained\n",
    "start = 0                    # use all data since the first time stamp (default = 0)\n",
    "get_x = df.columns[:-1]      # Indicates which are the columns that contain the x data.\n",
    "get_y = 'target'             # In multivariate time series, you must indicate which is/are the y columns\n",
    "horizon = 0                  # 0 means y is taken from the last time stamp of the time sequence (default = 0)\n",
    "seq_first = True\n",
    "                            \n",
    "X, y = SlidingWindow(window_length, stride=stride, start=start, get_x=get_x,  get_y=get_y, horizon=horizon, seq_first=seq_first)(df)\n",
    "splits = get_splits(y, valid_size=.2, stratify=True, random_state=23, shuffle=False)\n",
    "tfms  = [None, [Categorize()]]\n",
    "dsets = TSDatasets(X, y, tfms=tfms, splits=splits)\n",
    "dsets"
   ]
  },
  {
   "cell_type": "code",
   "execution_count": null,
   "metadata": {},
   "outputs": [
    {
     "data": {
      "text/html": [
       "\n",
       "                <audio  controls=\"controls\" autoplay=\"autoplay\">\n",
       "                    <source src=\"data:audio/wav;base64,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\" type=\"audio/wav\" />\n",
       "                    Your browser does not support the audio element.\n",
       "                </audio>\n",
       "              "
      ],
      "text/plain": [
       "<IPython.lib.display.Audio object>"
      ]
     },
     "metadata": {},
     "output_type": "display_data"
    }
   ],
   "source": [
    "beep()"
   ]
  }
 ],
 "metadata": {
  "kernelspec": {
   "display_name": "Python 3 (ipykernel)",
   "language": "python",
   "name": "python3"
  },
  "language_info": {
   "codemirror_mode": {
    "name": "ipython",
    "version": 3
   },
   "file_extension": ".py",
   "mimetype": "text/x-python",
   "name": "python",
   "nbconvert_exporter": "python",
   "pygments_lexer": "ipython3",
   "version": "3.8.0"
  }
 },
 "nbformat": 4,
 "nbformat_minor": 1
}
